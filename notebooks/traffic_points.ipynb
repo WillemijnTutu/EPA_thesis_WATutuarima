{
 "cells": [
  {
   "cell_type": "code",
   "execution_count": 1,
   "id": "80454fbe",
   "metadata": {},
   "outputs": [
    {
     "name": "stderr",
     "output_type": "stream",
     "text": [
      "C:\\Users\\Willemijn Tutuarima\\miniconda3\\envs\\gds\\lib\\site-packages\\geopandas\\_compat.py:106: UserWarning: The Shapely GEOS version (3.9.1dev-CAPI-1.14.1) is incompatible with the GEOS version PyGEOS was compiled with (3.9.1-CAPI-1.14.2). Conversions between both will be slow.\n",
      "  warnings.warn(\n"
     ]
    }
   ],
   "source": [
    "import pandas as pd\n",
    "import osmnx as ox\n",
    "import networkx as nx\n",
    "import math\n",
    "from numpy import linalg as LA\n",
    "import numpy as np"
   ]
  },
  {
   "cell_type": "code",
   "execution_count": 2,
   "id": "49b1925f",
   "metadata": {},
   "outputs": [],
   "source": [
    "filepath = \"../graph/rotterdam_drive.graphml\"\n",
    "graph = ox.load_graphml(filepath)"
   ]
  },
  {
   "cell_type": "code",
   "execution_count": 3,
   "id": "b1201583",
   "metadata": {},
   "outputs": [
    {
     "data": {
      "text/plain": [
       "(26911590, {'y': 51.9226227, 'x': 4.4919619, 'street_count': 3})"
      ]
     },
     "execution_count": 3,
     "metadata": {},
     "output_type": "execute_result"
    }
   ],
   "source": [
    "list(graph.nodes(data=True))[1]\n",
    "# latitude = y, longitude = x"
   ]
  },
  {
   "cell_type": "code",
   "execution_count": 4,
   "id": "df63ca6d",
   "metadata": {},
   "outputs": [],
   "source": [
    "df = pd.DataFrame(columns=['lat', 'lon'])"
   ]
  },
  {
   "cell_type": "code",
   "execution_count": 6,
   "id": "f0e315ac",
   "metadata": {},
   "outputs": [],
   "source": [
    "for index, data in graph.nodes(data=True):\n",
    "    list_row = [data.get('y'), data.get('x')]\n",
    "    df.loc[len(df)] = list_row"
   ]
  },
  {
   "cell_type": "code",
   "execution_count": 7,
   "id": "c3eba614",
   "metadata": {},
   "outputs": [
    {
     "data": {
      "text/html": [
       "<div>\n",
       "<style scoped>\n",
       "    .dataframe tbody tr th:only-of-type {\n",
       "        vertical-align: middle;\n",
       "    }\n",
       "\n",
       "    .dataframe tbody tr th {\n",
       "        vertical-align: top;\n",
       "    }\n",
       "\n",
       "    .dataframe thead th {\n",
       "        text-align: right;\n",
       "    }\n",
       "</style>\n",
       "<table border=\"1\" class=\"dataframe\">\n",
       "  <thead>\n",
       "    <tr style=\"text-align: right;\">\n",
       "      <th></th>\n",
       "      <th>lat</th>\n",
       "      <th>lon</th>\n",
       "    </tr>\n",
       "  </thead>\n",
       "  <tbody>\n",
       "    <tr>\n",
       "      <th>0</th>\n",
       "      <td>4.556098</td>\n",
       "      <td>51.888562</td>\n",
       "    </tr>\n",
       "    <tr>\n",
       "      <th>1</th>\n",
       "      <td>4.491962</td>\n",
       "      <td>51.922623</td>\n",
       "    </tr>\n",
       "    <tr>\n",
       "      <th>2</th>\n",
       "      <td>4.556670</td>\n",
       "      <td>51.890354</td>\n",
       "    </tr>\n",
       "    <tr>\n",
       "      <th>3</th>\n",
       "      <td>4.554568</td>\n",
       "      <td>51.889970</td>\n",
       "    </tr>\n",
       "    <tr>\n",
       "      <th>4</th>\n",
       "      <td>4.553497</td>\n",
       "      <td>51.889823</td>\n",
       "    </tr>\n",
       "    <tr>\n",
       "      <th>...</th>\n",
       "      <td>...</td>\n",
       "      <td>...</td>\n",
       "    </tr>\n",
       "    <tr>\n",
       "      <th>11278</th>\n",
       "      <td>4.516478</td>\n",
       "      <td>51.955870</td>\n",
       "    </tr>\n",
       "    <tr>\n",
       "      <th>11279</th>\n",
       "      <td>4.516344</td>\n",
       "      <td>51.955864</td>\n",
       "    </tr>\n",
       "    <tr>\n",
       "      <th>11280</th>\n",
       "      <td>4.516257</td>\n",
       "      <td>51.956153</td>\n",
       "    </tr>\n",
       "    <tr>\n",
       "      <th>11281</th>\n",
       "      <td>4.543833</td>\n",
       "      <td>51.895863</td>\n",
       "    </tr>\n",
       "    <tr>\n",
       "      <th>11282</th>\n",
       "      <td>4.528206</td>\n",
       "      <td>51.955872</td>\n",
       "    </tr>\n",
       "  </tbody>\n",
       "</table>\n",
       "<p>11283 rows × 2 columns</p>\n",
       "</div>"
      ],
      "text/plain": [
       "            lat        lon\n",
       "0      4.556098  51.888562\n",
       "1      4.491962  51.922623\n",
       "2      4.556670  51.890354\n",
       "3      4.554568  51.889970\n",
       "4      4.553497  51.889823\n",
       "...         ...        ...\n",
       "11278  4.516478  51.955870\n",
       "11279  4.516344  51.955864\n",
       "11280  4.516257  51.956153\n",
       "11281  4.543833  51.895863\n",
       "11282  4.528206  51.955872\n",
       "\n",
       "[11283 rows x 2 columns]"
      ]
     },
     "execution_count": 7,
     "metadata": {},
     "output_type": "execute_result"
    }
   ],
   "source": [
    "df"
   ]
  },
  {
   "cell_type": "code",
   "execution_count": 8,
   "id": "14ddf74c",
   "metadata": {},
   "outputs": [
    {
     "data": {
      "text/plain": [
       "11283"
      ]
     },
     "execution_count": 8,
     "metadata": {},
     "output_type": "execute_result"
    }
   ],
   "source": [
    "len(list(graph.nodes()))"
   ]
  },
  {
   "cell_type": "code",
   "execution_count": 9,
   "id": "e837985c",
   "metadata": {},
   "outputs": [],
   "source": [
    "df_point_to_point = pd.DataFrame(columns={'lat1', 'lon1', 'lat2', 'lon2'})"
   ]
  },
  {
   "cell_type": "code",
   "execution_count": 13,
   "id": "91a2935f",
   "metadata": {},
   "outputs": [],
   "source": [
    "for index, data in graph.nodes(data=True):\n",
    "     for node_num in graph.neighbors(index):\n",
    "            data_numer = graph.nodes[node_num]\n",
    "            list_row = [data.get('y'), data.get('x'), data_numer.get('y'), data_numer.get('y')]\n",
    "            df_point_to_point.loc[len(df_point_to_point)] = list_row"
   ]
  },
  {
   "cell_type": "code",
   "execution_count": 14,
   "id": "a9b7ebb7",
   "metadata": {},
   "outputs": [
    {
     "data": {
      "text/html": [
       "<div>\n",
       "<style scoped>\n",
       "    .dataframe tbody tr th:only-of-type {\n",
       "        vertical-align: middle;\n",
       "    }\n",
       "\n",
       "    .dataframe tbody tr th {\n",
       "        vertical-align: top;\n",
       "    }\n",
       "\n",
       "    .dataframe thead th {\n",
       "        text-align: right;\n",
       "    }\n",
       "</style>\n",
       "<table border=\"1\" class=\"dataframe\">\n",
       "  <thead>\n",
       "    <tr style=\"text-align: right;\">\n",
       "      <th></th>\n",
       "      <th>lat1</th>\n",
       "      <th>lat2</th>\n",
       "      <th>lon1</th>\n",
       "      <th>lon2</th>\n",
       "    </tr>\n",
       "  </thead>\n",
       "  <tbody>\n",
       "    <tr>\n",
       "      <th>0</th>\n",
       "      <td>51.888562</td>\n",
       "      <td>4.556098</td>\n",
       "      <td>51.889107</td>\n",
       "      <td>51.889107</td>\n",
       "    </tr>\n",
       "    <tr>\n",
       "      <th>1</th>\n",
       "      <td>51.922623</td>\n",
       "      <td>4.491962</td>\n",
       "      <td>51.923058</td>\n",
       "      <td>51.923058</td>\n",
       "    </tr>\n",
       "    <tr>\n",
       "      <th>2</th>\n",
       "      <td>51.922623</td>\n",
       "      <td>4.491962</td>\n",
       "      <td>51.922391</td>\n",
       "      <td>51.922391</td>\n",
       "    </tr>\n",
       "    <tr>\n",
       "      <th>3</th>\n",
       "      <td>51.922623</td>\n",
       "      <td>4.491962</td>\n",
       "      <td>51.922313</td>\n",
       "      <td>51.922313</td>\n",
       "    </tr>\n",
       "    <tr>\n",
       "      <th>4</th>\n",
       "      <td>51.890354</td>\n",
       "      <td>4.556670</td>\n",
       "      <td>51.890988</td>\n",
       "      <td>51.890988</td>\n",
       "    </tr>\n",
       "    <tr>\n",
       "      <th>...</th>\n",
       "      <td>...</td>\n",
       "      <td>...</td>\n",
       "      <td>...</td>\n",
       "      <td>...</td>\n",
       "    </tr>\n",
       "    <tr>\n",
       "      <th>24976</th>\n",
       "      <td>51.955864</td>\n",
       "      <td>4.516344</td>\n",
       "      <td>51.955308</td>\n",
       "      <td>51.955308</td>\n",
       "    </tr>\n",
       "    <tr>\n",
       "      <th>24977</th>\n",
       "      <td>51.956153</td>\n",
       "      <td>4.516257</td>\n",
       "      <td>51.955864</td>\n",
       "      <td>51.955864</td>\n",
       "    </tr>\n",
       "    <tr>\n",
       "      <th>24978</th>\n",
       "      <td>51.895863</td>\n",
       "      <td>4.543833</td>\n",
       "      <td>51.895331</td>\n",
       "      <td>51.895331</td>\n",
       "    </tr>\n",
       "    <tr>\n",
       "      <th>24979</th>\n",
       "      <td>51.955872</td>\n",
       "      <td>4.528206</td>\n",
       "      <td>51.955027</td>\n",
       "      <td>51.955027</td>\n",
       "    </tr>\n",
       "    <tr>\n",
       "      <th>24980</th>\n",
       "      <td>51.955872</td>\n",
       "      <td>4.528206</td>\n",
       "      <td>51.956150</td>\n",
       "      <td>51.956150</td>\n",
       "    </tr>\n",
       "  </tbody>\n",
       "</table>\n",
       "<p>24981 rows × 4 columns</p>\n",
       "</div>"
      ],
      "text/plain": [
       "            lat1      lat2       lon1       lon2\n",
       "0      51.888562  4.556098  51.889107  51.889107\n",
       "1      51.922623  4.491962  51.923058  51.923058\n",
       "2      51.922623  4.491962  51.922391  51.922391\n",
       "3      51.922623  4.491962  51.922313  51.922313\n",
       "4      51.890354  4.556670  51.890988  51.890988\n",
       "...          ...       ...        ...        ...\n",
       "24976  51.955864  4.516344  51.955308  51.955308\n",
       "24977  51.956153  4.516257  51.955864  51.955864\n",
       "24978  51.895863  4.543833  51.895331  51.895331\n",
       "24979  51.955872  4.528206  51.955027  51.955027\n",
       "24980  51.955872  4.528206  51.956150  51.956150\n",
       "\n",
       "[24981 rows x 4 columns]"
      ]
     },
     "execution_count": 14,
     "metadata": {},
     "output_type": "execute_result"
    }
   ],
   "source": [
    "df_point_to_point"
   ]
  },
  {
   "cell_type": "code",
   "execution_count": 15,
   "id": "7e5d25fa",
   "metadata": {},
   "outputs": [],
   "source": [
    "df_point_to_point.to_excel(\"traffic_points.xlsx\") "
   ]
  },
  {
   "cell_type": "markdown",
   "id": "06abd4db",
   "metadata": {},
   "source": [
    "### Read XML"
   ]
  },
  {
   "cell_type": "code",
   "execution_count": 16,
   "id": "d0f50ffb",
   "metadata": {},
   "outputs": [],
   "source": [
    "\n",
    "from bs4 import BeautifulSoup"
   ]
  },
  {
   "cell_type": "code",
   "execution_count": null,
   "id": "cdeb2e12",
   "metadata": {},
   "outputs": [],
   "source": [
    "# Reading the data inside the xml\n",
    "# file to a variable under the name\n",
    "# data\n",
    "with open('../data/traffic/trafficspeed.xml', 'r') as f:\n",
    "    data = f.read()\n",
    " \n",
    "# Passing the stored data inside\n",
    "# the beautifulsoup parser, storing\n",
    "# the returned object\n",
    "Bs_data = BeautifulSoup(data, \"xml\")\n",
    " \n",
    "# Finding all instances of tag\n",
    "# `unique`\n",
    "b_unique = Bs_data.find_all('unique')\n",
    " \n",
    "print(b_unique)\n",
    " \n",
    "# Using find() to extract attributes\n",
    "# of the first instance of the tag\n",
    "b_name = Bs_data.find('child', {'name':'Frank'})\n",
    " \n",
    "print(b_name)\n",
    " \n",
    "# Extracting the data stored in a\n",
    "# specific attribute of the\n",
    "# `child` tag\n",
    "value = b_name.get('test')\n",
    " \n",
    "print(value)"
   ]
  },
  {
   "cell_type": "code",
   "execution_count": 17,
   "id": "484b0165",
   "metadata": {},
   "outputs": [],
   "source": [
    "import xml.etree.ElementTree as ET"
   ]
  },
  {
   "cell_type": "code",
   "execution_count": 18,
   "id": "edba963f",
   "metadata": {},
   "outputs": [
    {
     "ename": "PermissionError",
     "evalue": "[Errno 13] Permission denied: '../data/traffic/trafficspeed.xml'",
     "output_type": "error",
     "traceback": [
      "\u001b[1;31m---------------------------------------------------------------------------\u001b[0m",
      "\u001b[1;31mPermissionError\u001b[0m                           Traceback (most recent call last)",
      "Cell \u001b[1;32mIn[18], line 1\u001b[0m\n\u001b[1;32m----> 1\u001b[0m tree \u001b[38;5;241m=\u001b[39m \u001b[43mET\u001b[49m\u001b[38;5;241;43m.\u001b[39;49m\u001b[43mparse\u001b[49m\u001b[43m(\u001b[49m\u001b[38;5;124;43m'\u001b[39;49m\u001b[38;5;124;43m../data/traffic/trafficspeed.xml\u001b[39;49m\u001b[38;5;124;43m'\u001b[39;49m\u001b[43m)\u001b[49m\n\u001b[0;32m      2\u001b[0m root \u001b[38;5;241m=\u001b[39m tree\u001b[38;5;241m.\u001b[39mgetroot()\n",
      "File \u001b[1;32m~\\miniconda3\\envs\\gds\\lib\\xml\\etree\\ElementTree.py:1202\u001b[0m, in \u001b[0;36mparse\u001b[1;34m(source, parser)\u001b[0m\n\u001b[0;32m   1193\u001b[0m \u001b[38;5;124;03m\"\"\"Parse XML document into element tree.\u001b[39;00m\n\u001b[0;32m   1194\u001b[0m \n\u001b[0;32m   1195\u001b[0m \u001b[38;5;124;03m*source* is a filename or file object containing XML data,\u001b[39;00m\n\u001b[1;32m   (...)\u001b[0m\n\u001b[0;32m   1199\u001b[0m \n\u001b[0;32m   1200\u001b[0m \u001b[38;5;124;03m\"\"\"\u001b[39;00m\n\u001b[0;32m   1201\u001b[0m tree \u001b[38;5;241m=\u001b[39m ElementTree()\n\u001b[1;32m-> 1202\u001b[0m \u001b[43mtree\u001b[49m\u001b[38;5;241;43m.\u001b[39;49m\u001b[43mparse\u001b[49m\u001b[43m(\u001b[49m\u001b[43msource\u001b[49m\u001b[43m,\u001b[49m\u001b[43m \u001b[49m\u001b[43mparser\u001b[49m\u001b[43m)\u001b[49m\n\u001b[0;32m   1203\u001b[0m \u001b[38;5;28;01mreturn\u001b[39;00m tree\n",
      "File \u001b[1;32m~\\miniconda3\\envs\\gds\\lib\\xml\\etree\\ElementTree.py:584\u001b[0m, in \u001b[0;36mElementTree.parse\u001b[1;34m(self, source, parser)\u001b[0m\n\u001b[0;32m    582\u001b[0m close_source \u001b[38;5;241m=\u001b[39m \u001b[38;5;28;01mFalse\u001b[39;00m\n\u001b[0;32m    583\u001b[0m \u001b[38;5;28;01mif\u001b[39;00m \u001b[38;5;129;01mnot\u001b[39;00m \u001b[38;5;28mhasattr\u001b[39m(source, \u001b[38;5;124m\"\u001b[39m\u001b[38;5;124mread\u001b[39m\u001b[38;5;124m\"\u001b[39m):\n\u001b[1;32m--> 584\u001b[0m     source \u001b[38;5;241m=\u001b[39m \u001b[38;5;28;43mopen\u001b[39;49m\u001b[43m(\u001b[49m\u001b[43msource\u001b[49m\u001b[43m,\u001b[49m\u001b[43m \u001b[49m\u001b[38;5;124;43m\"\u001b[39;49m\u001b[38;5;124;43mrb\u001b[39;49m\u001b[38;5;124;43m\"\u001b[39;49m\u001b[43m)\u001b[49m\n\u001b[0;32m    585\u001b[0m     close_source \u001b[38;5;241m=\u001b[39m \u001b[38;5;28;01mTrue\u001b[39;00m\n\u001b[0;32m    586\u001b[0m \u001b[38;5;28;01mtry\u001b[39;00m:\n",
      "\u001b[1;31mPermissionError\u001b[0m: [Errno 13] Permission denied: '../data/traffic/trafficspeed.xml'"
     ]
    }
   ],
   "source": [
    "tree = ET.parse('../data/traffic/trafficspeed.xml')\n",
    "root = tree.getroot()"
   ]
  },
  {
   "cell_type": "code",
   "execution_count": null,
   "id": "a1bfa7fb",
   "metadata": {},
   "outputs": [],
   "source": []
  }
 ],
 "metadata": {
  "kernelspec": {
   "display_name": "Python 3 (ipykernel)",
   "language": "python",
   "name": "python3"
  },
  "language_info": {
   "codemirror_mode": {
    "name": "ipython",
    "version": 3
   },
   "file_extension": ".py",
   "mimetype": "text/x-python",
   "name": "python",
   "nbconvert_exporter": "python",
   "pygments_lexer": "ipython3",
   "version": "3.8.12"
  }
 },
 "nbformat": 4,
 "nbformat_minor": 5
}
