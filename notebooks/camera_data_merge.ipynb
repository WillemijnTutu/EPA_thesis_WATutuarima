{
 "cells": [
  {
   "cell_type": "code",
   "execution_count": 63,
   "id": "cf24cb22",
   "metadata": {},
   "outputs": [],
   "source": [
    "import pandas as pd\n",
    "import osmnx as ox\n",
    "import networkx as nx\n",
    "import math"
   ]
  },
  {
   "cell_type": "markdown",
   "id": "ee71b47d",
   "metadata": {},
   "source": [
    "### Code to get the cameras in Rotterdam from dataset"
   ]
  },
  {
   "cell_type": "code",
   "execution_count": 18,
   "id": "8a64aaad",
   "metadata": {},
   "outputs": [],
   "source": [
    "path=\"../data/camera_data2.xlsx\""
   ]
  },
  {
   "cell_type": "code",
   "execution_count": 19,
   "id": "bcc4fed7",
   "metadata": {},
   "outputs": [],
   "source": [
    "xls = pd.ExcelFile(path)\n"
   ]
  },
  {
   "cell_type": "code",
   "execution_count": 20,
   "id": "5f98a049",
   "metadata": {},
   "outputs": [],
   "source": [
    "df1= pd.read_excel(xls, 'Table001 (Page 1)')\n",
    "df2= pd.read_excel(xls, 'Table002 (Page 2)')\n",
    "df3= pd.read_excel(xls, 'Table003 (Page 3)')\n",
    "df4= pd.read_excel(xls, 'Table004 (Page 4)')\n",
    "df5= pd.read_excel(xls, 'Table005 (Page 5)')\n",
    "df6= pd.read_excel(xls, 'Table006 (Page 6)')\n",
    "df7= pd.read_excel(xls, 'Table007 (Page 7)')\n",
    "df8= pd.read_excel(xls, 'Table008 (Page 8)')\n",
    "df9= pd.read_excel(xls, 'Table009 (Page 9)')\n",
    "df10= pd.read_excel(xls, 'Table010 (Page 10)')\n",
    "df11= pd.read_excel(xls, 'Table011 (Page 11)')"
   ]
  },
  {
   "cell_type": "code",
   "execution_count": 21,
   "id": "39dce0af",
   "metadata": {},
   "outputs": [
    {
     "data": {
      "text/plain": [
       "Index(['Locatienaam', 'Eenheid', 'Plaats', 'Gemeente', 'Latitude', 'Longitude',\n",
       "       'reden 1', 'reden 2', 'reden 3', 'reden 4'],\n",
       "      dtype='object')"
      ]
     },
     "execution_count": 21,
     "metadata": {},
     "output_type": "execute_result"
    }
   ],
   "source": [
    "df1.columns"
   ]
  },
  {
   "cell_type": "code",
   "execution_count": 22,
   "id": "44b75b7e",
   "metadata": {
    "tags": []
   },
   "outputs": [
    {
     "data": {
      "text/html": [
       "<div>\n",
       "<style scoped>\n",
       "    .dataframe tbody tr th:only-of-type {\n",
       "        vertical-align: middle;\n",
       "    }\n",
       "\n",
       "    .dataframe tbody tr th {\n",
       "        vertical-align: top;\n",
       "    }\n",
       "\n",
       "    .dataframe thead th {\n",
       "        text-align: right;\n",
       "    }\n",
       "</style>\n",
       "<table border=\"1\" class=\"dataframe\">\n",
       "  <thead>\n",
       "    <tr style=\"text-align: right;\">\n",
       "      <th></th>\n",
       "      <th>Locatienaam</th>\n",
       "      <th>Eenheid</th>\n",
       "      <th>Plaats</th>\n",
       "      <th>Gemeente</th>\n",
       "      <th>Latitude</th>\n",
       "      <th>Longitude</th>\n",
       "      <th>reden 1</th>\n",
       "      <th>reden 2</th>\n",
       "      <th>reden 3</th>\n",
       "      <th>reden 4</th>\n",
       "    </tr>\n",
       "  </thead>\n",
       "  <tbody>\n",
       "    <tr>\n",
       "      <th>0</th>\n",
       "      <td>01 Emmaviad. ri Julianapl</td>\n",
       "      <td>Noord-Nederland</td>\n",
       "      <td>Groningen</td>\n",
       "      <td>Groningen</td>\n",
       "      <td>53206667</td>\n",
       "      <td>6562222</td>\n",
       "      <td>x</td>\n",
       "      <td>x</td>\n",
       "      <td>x</td>\n",
       "      <td>x</td>\n",
       "    </tr>\n",
       "    <tr>\n",
       "      <th>1</th>\n",
       "      <td>01 Emmaviaduct ri Centrum</td>\n",
       "      <td>Noord-Nederland</td>\n",
       "      <td>Groningen</td>\n",
       "      <td>Groningen</td>\n",
       "      <td>53206667</td>\n",
       "      <td>65625</td>\n",
       "      <td>x</td>\n",
       "      <td>x</td>\n",
       "      <td>x</td>\n",
       "      <td>x</td>\n",
       "    </tr>\n",
       "    <tr>\n",
       "      <th>2</th>\n",
       "      <td>01 LWRDN Adlansdk ri Greunsbrg</td>\n",
       "      <td>Noord-Nederland</td>\n",
       "      <td>Leeuwarden</td>\n",
       "      <td>Leeuwarden</td>\n",
       "      <td>53190627</td>\n",
       "      <td>5822761</td>\n",
       "      <td>x</td>\n",
       "      <td>x</td>\n",
       "      <td>x</td>\n",
       "      <td>x</td>\n",
       "    </tr>\n",
       "    <tr>\n",
       "      <th>3</th>\n",
       "      <td>01 LWRDN Greunsbrug</td>\n",
       "      <td>Noord-Nederland</td>\n",
       "      <td>Leeuwarden</td>\n",
       "      <td>Leeuwarden</td>\n",
       "      <td>53192767</td>\n",
       "      <td>5835468</td>\n",
       "      <td>x</td>\n",
       "      <td>x</td>\n",
       "      <td>x</td>\n",
       "      <td>x</td>\n",
       "    </tr>\n",
       "    <tr>\n",
       "      <th>4</th>\n",
       "      <td>01 LWRDN Holstmrwg richting PI</td>\n",
       "      <td>Noord-Nederland</td>\n",
       "      <td>Leeuwarden</td>\n",
       "      <td>Leeuwarden</td>\n",
       "      <td>53191878</td>\n",
       "      <td>5823654</td>\n",
       "      <td>x</td>\n",
       "      <td>x</td>\n",
       "      <td>x</td>\n",
       "      <td>x</td>\n",
       "    </tr>\n",
       "  </tbody>\n",
       "</table>\n",
       "</div>"
      ],
      "text/plain": [
       "                      Locatienaam          Eenheid      Plaats    Gemeente  \\\n",
       "0       01 Emmaviad. ri Julianapl  Noord-Nederland   Groningen   Groningen   \n",
       "1       01 Emmaviaduct ri Centrum  Noord-Nederland   Groningen   Groningen   \n",
       "2  01 LWRDN Adlansdk ri Greunsbrg  Noord-Nederland  Leeuwarden  Leeuwarden   \n",
       "3             01 LWRDN Greunsbrug  Noord-Nederland  Leeuwarden  Leeuwarden   \n",
       "4  01 LWRDN Holstmrwg richting PI  Noord-Nederland  Leeuwarden  Leeuwarden   \n",
       "\n",
       "   Latitude  Longitude reden 1 reden 2 reden 3 reden 4  \n",
       "0  53206667    6562222       x       x       x       x  \n",
       "1  53206667      65625       x       x       x       x  \n",
       "2  53190627    5822761       x       x       x       x  \n",
       "3  53192767    5835468       x       x       x       x  \n",
       "4  53191878    5823654       x       x       x       x  "
      ]
     },
     "execution_count": 22,
     "metadata": {},
     "output_type": "execute_result"
    }
   ],
   "source": [
    "df1.head()"
   ]
  },
  {
   "cell_type": "code",
   "execution_count": 23,
   "id": "7f04a45d",
   "metadata": {},
   "outputs": [
    {
     "data": {
      "text/html": [
       "<div>\n",
       "<style scoped>\n",
       "    .dataframe tbody tr th:only-of-type {\n",
       "        vertical-align: middle;\n",
       "    }\n",
       "\n",
       "    .dataframe tbody tr th {\n",
       "        vertical-align: top;\n",
       "    }\n",
       "\n",
       "    .dataframe thead th {\n",
       "        text-align: right;\n",
       "    }\n",
       "</style>\n",
       "<table border=\"1\" class=\"dataframe\">\n",
       "  <thead>\n",
       "    <tr style=\"text-align: right;\">\n",
       "      <th></th>\n",
       "      <th>Locatienaam</th>\n",
       "      <th>Eenheid</th>\n",
       "      <th>Plaats</th>\n",
       "      <th>Gemeente</th>\n",
       "      <th>Latitude</th>\n",
       "      <th>Longitude</th>\n",
       "      <th>reden 1</th>\n",
       "      <th>reden 2</th>\n",
       "      <th>reden 3</th>\n",
       "      <th>reden 4</th>\n",
       "    </tr>\n",
       "  </thead>\n",
       "  <tbody>\n",
       "    <tr>\n",
       "      <th>0</th>\n",
       "      <td>07 Maastunnel ZN</td>\n",
       "      <td>Rotterdam</td>\n",
       "      <td>Rotterdam</td>\n",
       "      <td>Rotterdam</td>\n",
       "      <td>51905906</td>\n",
       "      <td>4466983</td>\n",
       "      <td>NaN</td>\n",
       "      <td>x</td>\n",
       "      <td>x</td>\n",
       "      <td>x</td>\n",
       "    </tr>\n",
       "    <tr>\n",
       "      <th>1</th>\n",
       "      <td>07 Matlingeweg Doenkade</td>\n",
       "      <td>Rotterdam</td>\n",
       "      <td>Rotterdam</td>\n",
       "      <td>Rotterdam</td>\n",
       "      <td>51946869</td>\n",
       "      <td>440852</td>\n",
       "      <td>NaN</td>\n",
       "      <td>x</td>\n",
       "      <td>x</td>\n",
       "      <td>x</td>\n",
       "    </tr>\n",
       "    <tr>\n",
       "      <th>2</th>\n",
       "      <td>07 Matlingeweg Schiekade</td>\n",
       "      <td>Rotterdam</td>\n",
       "      <td>Rotterdam</td>\n",
       "      <td>Rotterdam</td>\n",
       "      <td>51938183</td>\n",
       "      <td>4411434</td>\n",
       "      <td>NaN</td>\n",
       "      <td>x</td>\n",
       "      <td>x</td>\n",
       "      <td>x</td>\n",
       "    </tr>\n",
       "    <tr>\n",
       "      <th>3</th>\n",
       "      <td>07 Merw.str xN3 ri 's-Gravendl</td>\n",
       "      <td>Rotterdam</td>\n",
       "      <td>Dordrecht</td>\n",
       "      <td>Dordrecht</td>\n",
       "      <td>5181707</td>\n",
       "      <td>470423</td>\n",
       "      <td>NaN</td>\n",
       "      <td>x</td>\n",
       "      <td>x</td>\n",
       "      <td>x</td>\n",
       "    </tr>\n",
       "    <tr>\n",
       "      <th>4</th>\n",
       "      <td>07 Merwedestr x N3 ri P-drecht</td>\n",
       "      <td>Rotterdam</td>\n",
       "      <td>Dordrecht</td>\n",
       "      <td>Dordrecht</td>\n",
       "      <td>51816943</td>\n",
       "      <td>4708611</td>\n",
       "      <td>NaN</td>\n",
       "      <td>x</td>\n",
       "      <td>x</td>\n",
       "      <td>x</td>\n",
       "    </tr>\n",
       "  </tbody>\n",
       "</table>\n",
       "</div>"
      ],
      "text/plain": [
       "                      Locatienaam    Eenheid     Plaats   Gemeente  Latitude  \\\n",
       "0                07 Maastunnel ZN  Rotterdam  Rotterdam  Rotterdam  51905906   \n",
       "1         07 Matlingeweg Doenkade  Rotterdam  Rotterdam  Rotterdam  51946869   \n",
       "2        07 Matlingeweg Schiekade  Rotterdam  Rotterdam  Rotterdam  51938183   \n",
       "3  07 Merw.str xN3 ri 's-Gravendl  Rotterdam  Dordrecht  Dordrecht   5181707   \n",
       "4  07 Merwedestr x N3 ri P-drecht  Rotterdam  Dordrecht  Dordrecht  51816943   \n",
       "\n",
       "   Longitude reden 1 reden 2 reden 3 reden 4  \n",
       "0    4466983     NaN       x       x       x  \n",
       "1     440852     NaN       x       x       x  \n",
       "2    4411434     NaN       x       x       x  \n",
       "3     470423     NaN       x       x       x  \n",
       "4    4708611     NaN       x       x       x  "
      ]
     },
     "execution_count": 23,
     "metadata": {},
     "output_type": "execute_result"
    }
   ],
   "source": [
    "df2.head()"
   ]
  },
  {
   "cell_type": "code",
   "execution_count": 24,
   "id": "3c55977c",
   "metadata": {},
   "outputs": [
    {
     "name": "stdout",
     "output_type": "stream",
     "text": [
      "Sheet 1, number of cameras in Rotterdam is,  14\n",
      "Sheet 2, number of cameras in Rotterdam is,  35\n",
      "Sheet 3, number of cameras in Rotterdam is,  11\n",
      "Sheet 4, number of cameras in Rotterdam is,  10\n",
      "Sheet 5, number of cameras in Rotterdam is,  1\n",
      "Sheet 6, number of cameras in Rotterdam is,  1\n",
      "Sheet 7, number of cameras in Rotterdam is,  0\n",
      "Sheet 8, number of cameras in Rotterdam is,  1\n",
      "Sheet 9, number of cameras in Rotterdam is,  2\n",
      "Sheet 10, number of cameras in Rotterdam is,  1\n",
      "Sheet 11, number of cameras in Rotterdam is,  0\n"
     ]
    }
   ],
   "source": [
    "print(\"Sheet 1, number of cameras in Rotterdam is, \", len(df1[df1[\"Gemeente\"] == \"Rotterdam\"]))\n",
    "print(\"Sheet 2, number of cameras in Rotterdam is, \", len(df2[df2[\"Gemeente\"] == \"Rotterdam\"]))\n",
    "print(\"Sheet 3, number of cameras in Rotterdam is, \", len(df3[df3[\"Gemeente\"] == \"Rotterdam\"]))\n",
    "print(\"Sheet 4, number of cameras in Rotterdam is, \", len(df4[df4[\"Gemeente\"] == \"Rotterdam\"]))\n",
    "print(\"Sheet 5, number of cameras in Rotterdam is, \", len(df5[df5[\"Gemeente\"] == \"Rotterdam\"]))\n",
    "print(\"Sheet 6, number of cameras in Rotterdam is, \", len(df6[df6[\"Gemeente\"] == \"Rotterdam\"]))\n",
    "print(\"Sheet 7, number of cameras in Rotterdam is, \", len(df7[df7[\"Gemeente\"] == \"Rotterdam\"]))\n",
    "print(\"Sheet 8, number of cameras in Rotterdam is, \", len(df8[df8[\"Gemeente\"] == \"Rotterdam\"]))\n",
    "print(\"Sheet 9, number of cameras in Rotterdam is, \", len(df9[df9[\"Gemeente\"] == \"Rotterdam\"]))\n",
    "print(\"Sheet 10, number of cameras in Rotterdam is, \", len(df10[df10[\"Gemeente\"] == \"Rotterdam\"]))\n",
    "print(\"Sheet 11, number of cameras in Rotterdam is, \", len(df11[df11[\"Gemeente\"] == \"Rotterdam\"]))\n"
   ]
  },
  {
   "cell_type": "code",
   "execution_count": 31,
   "id": "727ad783",
   "metadata": {},
   "outputs": [],
   "source": [
    "df = pd.DataFrame(columns=df1.columns)"
   ]
  },
  {
   "cell_type": "code",
   "execution_count": 32,
   "id": "36a27dbc",
   "metadata": {},
   "outputs": [],
   "source": [
    "df = pd.concat([df, df1[df1[\"Gemeente\"] == \"Rotterdam\"]])\n",
    "df = pd.concat([df, df2[df2[\"Gemeente\"] == \"Rotterdam\"]])\n",
    "df = pd.concat([df, df3[df3[\"Gemeente\"] == \"Rotterdam\"]])\n",
    "df = pd.concat([df, df4[df4[\"Gemeente\"] == \"Rotterdam\"]])\n",
    "df = pd.concat([df, df5[df5[\"Gemeente\"] == \"Rotterdam\"]])\n",
    "df = pd.concat([df, df6[df6[\"Gemeente\"] == \"Rotterdam\"]])\n",
    "df = pd.concat([df, df7[df7[\"Gemeente\"] == \"Rotterdam\"]])\n",
    "df = pd.concat([df, df8[df8[\"Gemeente\"] == \"Rotterdam\"]])\n",
    "df = pd.concat([df, df9[df9[\"Gemeente\"] == \"Rotterdam\"]])\n",
    "df = pd.concat([df, df10[df10[\"Gemeente\"] == \"Rotterdam\"]])\n",
    "df = pd.concat([df, df11[df11[\"Gemeente\"] == \"Rotterdam\"]])"
   ]
  },
  {
   "cell_type": "code",
   "execution_count": 42,
   "id": "543efe77",
   "metadata": {},
   "outputs": [
    {
     "name": "stdout",
     "output_type": "stream",
     "text": [
      "number of duplicated is  0\n"
     ]
    }
   ],
   "source": [
    "print(\"number of duplicated is \", df.duplicated().values.sum())"
   ]
  },
  {
   "cell_type": "code",
   "execution_count": 51,
   "id": "ee046b87",
   "metadata": {},
   "outputs": [
    {
     "data": {
      "text/plain": [
       "Locatienaam    object\n",
       "Eenheid        object\n",
       "Plaats         object\n",
       "Gemeente       object\n",
       "Latitude       object\n",
       "Longitude      object\n",
       "reden 1        object\n",
       "reden 2        object\n",
       "reden 3        object\n",
       "reden 4        object\n",
       "Column11       object\n",
       "dtype: object"
      ]
     },
     "execution_count": 51,
     "metadata": {},
     "output_type": "execute_result"
    }
   ],
   "source": [
    "df.dtypes"
   ]
  },
  {
   "cell_type": "code",
   "execution_count": 50,
   "id": "2bd9deba",
   "metadata": {},
   "outputs": [],
   "source": [
    "df.to_csv(\"../data/cameras.csv\")"
   ]
  },
  {
   "cell_type": "code",
   "execution_count": 93,
   "id": "3c954558",
   "metadata": {},
   "outputs": [],
   "source": [
    "df_fixed= pd.read_excel('../data/camer_data_fixed.xlsx')               "
   ]
  },
  {
   "cell_type": "markdown",
   "id": "157562c3",
   "metadata": {},
   "source": [
    "## Code to merge cameras data with graph "
   ]
  },
  {
   "cell_type": "code",
   "execution_count": 43,
   "id": "79355c4f",
   "metadata": {},
   "outputs": [],
   "source": [
    "filepath = \"../graph/rotterdam_drive.graphml\"\n",
    "graph = ox.load_graphml(filepath)"
   ]
  },
  {
   "cell_type": "code",
   "execution_count": 44,
   "id": "86cc5375",
   "metadata": {},
   "outputs": [
    {
     "data": {
      "text/plain": [
       "(29341398,\n",
       " 44376845,\n",
       " {'osmid': 7518410,\n",
       "  'name': 'Emerstraat',\n",
       "  'highway': 'residential',\n",
       "  'maxspeed': '30',\n",
       "  'oneway': False,\n",
       "  'length': 34.568})"
      ]
     },
     "execution_count": 44,
     "metadata": {},
     "output_type": "execute_result"
    }
   ],
   "source": [
    "list(graph.edges(data=True))[7]"
   ]
  },
  {
   "cell_type": "code",
   "execution_count": 49,
   "id": "70cb6155",
   "metadata": {},
   "outputs": [
    {
     "data": {
      "text/plain": [
       "{'y': 51.8885616, 'x': 4.5560984, 'street_count': 1}"
      ]
     },
     "execution_count": 49,
     "metadata": {},
     "output_type": "execute_result"
    }
   ],
   "source": [
    "graph.nodes[26673101]"
   ]
  },
  {
   "cell_type": "code",
   "execution_count": 94,
   "id": "13b099b9",
   "metadata": {},
   "outputs": [
    {
     "data": {
      "text/html": [
       "<div>\n",
       "<style scoped>\n",
       "    .dataframe tbody tr th:only-of-type {\n",
       "        vertical-align: middle;\n",
       "    }\n",
       "\n",
       "    .dataframe tbody tr th {\n",
       "        vertical-align: top;\n",
       "    }\n",
       "\n",
       "    .dataframe thead th {\n",
       "        text-align: right;\n",
       "    }\n",
       "</style>\n",
       "<table border=\"1\" class=\"dataframe\">\n",
       "  <thead>\n",
       "    <tr style=\"text-align: right;\">\n",
       "      <th></th>\n",
       "      <th>Locatienaam</th>\n",
       "      <th>Eenheid</th>\n",
       "      <th>Plaats</th>\n",
       "      <th>Gemeente</th>\n",
       "      <th>Latitude</th>\n",
       "      <th>Longitude</th>\n",
       "    </tr>\n",
       "  </thead>\n",
       "  <tbody>\n",
       "    <tr>\n",
       "      <th>0</th>\n",
       "      <td>07 Bosdreef x Boszoom</td>\n",
       "      <td>Rotterdam</td>\n",
       "      <td>Rotterdam</td>\n",
       "      <td>Rotterdam</td>\n",
       "      <td>51.945278</td>\n",
       "      <td>4.526389</td>\n",
       "    </tr>\n",
       "    <tr>\n",
       "      <th>1</th>\n",
       "      <td>07 Botlekweg na truckpark HBR</td>\n",
       "      <td>Rotterdam</td>\n",
       "      <td>Rotterdam</td>\n",
       "      <td>Rotterdam</td>\n",
       "      <td>51.876145</td>\n",
       "      <td>4.261512</td>\n",
       "    </tr>\n",
       "    <tr>\n",
       "      <th>2</th>\n",
       "      <td>07 Botlekweg thv Exxon HBR</td>\n",
       "      <td>Rotterdam</td>\n",
       "      <td>Rotterdam</td>\n",
       "      <td>Rotterdam</td>\n",
       "      <td>51.869600</td>\n",
       "      <td>4.303333</td>\n",
       "    </tr>\n",
       "    <tr>\n",
       "      <th>3</th>\n",
       "      <td>07 Butaanweg HBR</td>\n",
       "      <td>Rotterdam</td>\n",
       "      <td>Rotterdam</td>\n",
       "      <td>Rotterdam</td>\n",
       "      <td>51.881623</td>\n",
       "      <td>4.381338</td>\n",
       "    </tr>\n",
       "    <tr>\n",
       "      <th>4</th>\n",
       "      <td>07 Dirk v.d. Burgweg HvH</td>\n",
       "      <td>Rotterdam</td>\n",
       "      <td>Hoek van Holland</td>\n",
       "      <td>Rotterdam</td>\n",
       "      <td>51.991769</td>\n",
       "      <td>4.138184</td>\n",
       "    </tr>\n",
       "    <tr>\n",
       "      <th>...</th>\n",
       "      <td>...</td>\n",
       "      <td>...</td>\n",
       "      <td>...</td>\n",
       "      <td>...</td>\n",
       "      <td>...</td>\n",
       "      <td>...</td>\n",
       "    </tr>\n",
       "    <tr>\n",
       "      <th>71</th>\n",
       "      <td>S101 Reeweg HBR</td>\n",
       "      <td>Rotterdam</td>\n",
       "      <td>Rotterdam</td>\n",
       "      <td>Rotterdam</td>\n",
       "      <td>51.873324</td>\n",
       "      <td>4.430334</td>\n",
       "    </tr>\n",
       "    <tr>\n",
       "      <th>72</th>\n",
       "      <td>07 Alexandrium Hfdwg A16</td>\n",
       "      <td>Rotterdam</td>\n",
       "      <td>Rotterdam</td>\n",
       "      <td>Rotterdam</td>\n",
       "      <td>51.948611</td>\n",
       "      <td>4.554167</td>\n",
       "    </tr>\n",
       "    <tr>\n",
       "      <th>73</th>\n",
       "      <td>A16 Re Pr 20.1 Brienenoordbrug</td>\n",
       "      <td>Rotterdam</td>\n",
       "      <td>Rotterdam</td>\n",
       "      <td>Rotterdam</td>\n",
       "      <td>51.909857</td>\n",
       "      <td>4.538413</td>\n",
       "    </tr>\n",
       "    <tr>\n",
       "      <th>74</th>\n",
       "      <td>A16 Re Sc 20.1 Brienenoordbrug</td>\n",
       "      <td>Rotterdam</td>\n",
       "      <td>Rotterdam</td>\n",
       "      <td>Rotterdam</td>\n",
       "      <td>51.909857</td>\n",
       "      <td>4.538413</td>\n",
       "    </tr>\n",
       "    <tr>\n",
       "      <th>75</th>\n",
       "      <td>N15 Re 25.3 Europaweg HBR</td>\n",
       "      <td>Rotterdam</td>\n",
       "      <td>Rotterdam</td>\n",
       "      <td>Rotterdam</td>\n",
       "      <td>51.932821</td>\n",
       "      <td>4.091762</td>\n",
       "    </tr>\n",
       "  </tbody>\n",
       "</table>\n",
       "<p>76 rows × 6 columns</p>\n",
       "</div>"
      ],
      "text/plain": [
       "                       Locatienaam    Eenheid            Plaats   Gemeente  \\\n",
       "0            07 Bosdreef x Boszoom  Rotterdam         Rotterdam  Rotterdam   \n",
       "1    07 Botlekweg na truckpark HBR  Rotterdam         Rotterdam  Rotterdam   \n",
       "2       07 Botlekweg thv Exxon HBR  Rotterdam         Rotterdam  Rotterdam   \n",
       "3                 07 Butaanweg HBR  Rotterdam         Rotterdam  Rotterdam   \n",
       "4         07 Dirk v.d. Burgweg HvH  Rotterdam  Hoek van Holland  Rotterdam   \n",
       "..                             ...        ...               ...        ...   \n",
       "71                 S101 Reeweg HBR  Rotterdam         Rotterdam  Rotterdam   \n",
       "72        07 Alexandrium Hfdwg A16  Rotterdam         Rotterdam  Rotterdam   \n",
       "73  A16 Re Pr 20.1 Brienenoordbrug  Rotterdam         Rotterdam  Rotterdam   \n",
       "74  A16 Re Sc 20.1 Brienenoordbrug  Rotterdam         Rotterdam  Rotterdam   \n",
       "75       N15 Re 25.3 Europaweg HBR  Rotterdam         Rotterdam  Rotterdam   \n",
       "\n",
       "     Latitude  Longitude  \n",
       "0   51.945278   4.526389  \n",
       "1   51.876145   4.261512  \n",
       "2   51.869600   4.303333  \n",
       "3   51.881623   4.381338  \n",
       "4   51.991769   4.138184  \n",
       "..        ...        ...  \n",
       "71  51.873324   4.430334  \n",
       "72  51.948611   4.554167  \n",
       "73  51.909857   4.538413  \n",
       "74  51.909857   4.538413  \n",
       "75  51.932821   4.091762  \n",
       "\n",
       "[76 rows x 6 columns]"
      ]
     },
     "execution_count": 94,
     "metadata": {},
     "output_type": "execute_result"
    }
   ],
   "source": [
    "df_fixed"
   ]
  },
  {
   "cell_type": "code",
   "execution_count": 61,
   "id": "f57c44d1",
   "metadata": {},
   "outputs": [],
   "source": [
    "row = df_fixed.iloc[0]\n",
    "node = graph.nodes[26673101]"
   ]
  },
  {
   "cell_type": "code",
   "execution_count": 66,
   "id": "42dc8a86",
   "metadata": {},
   "outputs": [],
   "source": [
    "distance = math.acos(math.sin(row['Latitude']*math.sin(node.get(\"y\"))+math.cos(row['Latitude'])*math.cos(node.get(\"y\"))*math.cos(node.get(\"x\")-row['Longitude'])))*6371"
   ]
  },
  {
   "cell_type": "code",
   "execution_count": 67,
   "id": "a2059c7d",
   "metadata": {},
   "outputs": [
    {
     "data": {
      "text/plain": [
       "278.423995559846"
      ]
     },
     "execution_count": 67,
     "metadata": {},
     "output_type": "execute_result"
    }
   ],
   "source": [
    "distance"
   ]
  },
  {
   "cell_type": "code",
   "execution_count": 68,
   "id": "20d4f333",
   "metadata": {},
   "outputs": [],
   "source": [
    "df_fixed['distance'] = 999999"
   ]
  },
  {
   "cell_type": "code",
   "execution_count": 101,
   "id": "2c7ffa3d",
   "metadata": {},
   "outputs": [
    {
     "name": "stdout",
     "output_type": "stream",
     "text": [
      "{'y': 51.9032052, 'x': 4.5532535, 'street_count': 3, 'camera': True}\n",
      "{'y': 51.8762388, 'x': 4.4798795, 'street_count': 3, 'camera': True}\n",
      "{'y': 51.8727552, 'x': 4.4738543, 'street_count': 4, 'camera': True}\n",
      "{'y': 51.8789663, 'x': 4.5179383, 'street_count': 4, 'camera': True}\n",
      "{'y': 51.9165278, 'x': 4.4494843, 'street_count': 3, 'camera': True}\n",
      "{'y': 51.9007977, 'x': 4.4884237, 'street_count': 3, 'camera': True}\n",
      "{'y': 51.8917448, 'x': 4.5019404, 'street_count': 3, 'camera': True}\n",
      "{'y': 51.8917448, 'x': 4.5019404, 'street_count': 3, 'camera': True}\n",
      "{'y': 51.9125664, 'x': 4.4475022, 'street_count': 3, 'camera': True}\n",
      "{'y': 51.9044128, 'x': 4.4598037, 'street_count': 3, 'camera': True}\n",
      "{'y': 51.8747476, 'x': 4.4840501, 'street_count': 4, 'camera': True}\n",
      "{'y': 51.8768367, 'x': 4.4589816, 'street_count': 3, 'camera': True}\n",
      "{'y': 51.8873187, 'x': 4.474631, 'street_count': 4, 'camera': True}\n",
      "{'y': 51.889419, 'x': 4.4941455, 'street_count': 4, 'camera': True}\n",
      "{'y': 51.8894367, 'x': 4.4235843, 'street_count': 3, 'camera': True}\n",
      "{'y': 51.9036946, 'x': 4.4386244, 'street_count': 3, 'camera': True}\n",
      "{'y': 51.900933, 'x': 4.4790242, 'street_count': 3, 'camera': True}\n",
      "{'y': 51.895175, 'x': 4.5172556, 'street_count': 3, 'camera': True}\n",
      "{'y': 51.8880982, 'x': 4.4954683, 'street_count': 3, 'camera': True}\n",
      "{'y': 51.8870134, 'x': 4.5713457, 'street_count': 3, 'camera': True}\n",
      "{'y': 51.8988124, 'x': 4.51613, 'street_count': 3, 'camera': True}\n",
      "{'y': 51.8732709, 'x': 4.4639331, 'street_count': 3, 'camera': True}\n",
      "{'y': 51.8782879, 'x': 4.4486214, 'street_count': 3, 'camera': True}\n",
      "{'y': 51.8731874, 'x': 4.4597335, 'street_count': 3, 'camera': True}\n",
      "{'y': 51.8729271, 'x': 4.4557493, 'street_count': 5, 'camera': True}\n",
      "{'y': 51.9073709, 'x': 4.4487584, 'street_count': 3, 'camera': True}\n",
      "{'y': 51.9075379, 'x': 4.4657456, 'street_count': 3, 'camera': True}\n",
      "{'y': 51.900156, 'x': 4.5149472, 'street_count': 4, 'camera': True}\n",
      "{'y': 51.8849914, 'x': 4.4914496, 'highway': 'crossing', 'street_count': 3, 'camera': True}\n",
      "{'y': 51.8657784, 'x': 4.4613282, 'street_count': 3, 'camera': True}\n",
      "{'y': 51.8657784, 'x': 4.4613282, 'street_count': 3, 'camera': True}\n",
      "{'y': 51.8978018, 'x': 4.5658256, 'street_count': 3, 'camera': True}\n",
      "{'y': 51.8858088, 'x': 4.4735872, 'street_count': 3, 'camera': True}\n",
      "{'y': 51.8945449, 'x': 4.4626693, 'street_count': 4, 'camera': True}\n",
      "{'y': 51.8945449, 'x': 4.4626693, 'street_count': 4, 'camera': True}\n",
      "{'y': 51.8756706, 'x': 4.4637936, 'street_count': 4, 'camera': True}\n",
      "{'y': 51.874926, 'x': 4.4942715, 'street_count': 3, 'camera': True}\n",
      "{'y': 51.899363, 'x': 4.5128785, 'street_count': 2, 'camera': True}\n",
      "{'y': 51.899363, 'x': 4.5128785, 'street_count': 2, 'camera': True}\n",
      "{'y': 51.8766193, 'x': 4.5123757, 'street_count': 4, 'camera': True}\n",
      "{'y': 51.895129, 'x': 4.4953408, 'street_count': 3, 'camera': True}\n",
      "{'y': 51.895129, 'x': 4.4953408, 'street_count': 3, 'camera': True}\n",
      "{'y': 51.88444, 'x': 4.4888165, 'street_count': 3, 'camera': True}\n",
      "{'y': 51.8840584, 'x': 4.5031721, 'street_count': 3, 'camera': True}\n",
      "{'y': 51.8777183, 'x': 4.5169843, 'street_count': 3, 'camera': True}\n",
      "{'y': 51.8720111, 'x': 4.4700742, 'street_count': 3, 'camera': True}\n",
      "{'y': 51.8723589, 'x': 4.5363958, 'street_count': 1, 'camera': True}\n",
      "{'y': 51.8939489, 'x': 4.5635988, 'street_count': 3, 'camera': True}\n",
      "{'y': 51.8937425, 'x': 4.5102388, 'street_count': 3, 'camera': True}\n",
      "{'y': 51.8846005, 'x': 4.4875884, 'street_count': 5, 'camera': True}\n",
      "{'y': 51.8846005, 'x': 4.4875884, 'street_count': 5, 'camera': True}\n",
      "{'y': 51.884632, 'x': 4.5408993, 'street_count': 1, 'camera': True}\n",
      "{'y': 51.884632, 'x': 4.5408993, 'street_count': 1, 'camera': True}\n",
      "{'y': 51.9027763, 'x': 4.4968281, 'street_count': 4, 'camera': True}\n",
      "{'y': 51.874689, 'x': 4.461959, 'street_count': 3, 'camera': True}\n",
      "{'y': 51.8757662, 'x': 4.4314709, 'street_count': 4, 'camera': True}\n",
      "{'y': 51.874689, 'x': 4.461959, 'street_count': 3, 'camera': True}\n",
      "{'y': 51.885465, 'x': 4.554134, 'street_count': 3, 'camera': True}\n",
      "{'y': 51.8914721, 'x': 4.4792257, 'street_count': 3, 'camera': True}\n",
      "{'y': 51.8909551, 'x': 4.460564, 'street_count': 3, 'camera': True}\n",
      "{'y': 51.9050615, 'x': 4.5090023, 'street_count': 4, 'camera': True}\n",
      "{'y': 51.9037523, 'x': 4.4521772, 'street_count': 3, 'camera': True}\n",
      "{'y': 51.9038732, 'x': 4.4966925, 'street_count': 3, 'camera': True}\n",
      "{'y': 51.9038732, 'x': 4.4966925, 'street_count': 3, 'camera': True}\n",
      "{'y': 51.8989903, 'x': 4.5632174, 'street_count': 3, 'camera': True}\n",
      "{'y': 51.9016273, 'x': 4.4963197, 'street_count': 3, 'camera': True}\n",
      "{'y': 51.9009341, 'x': 4.5034468, 'street_count': 3, 'camera': True}\n",
      "{'y': 51.8981178, 'x': 4.4162033, 'street_count': 3, 'camera': True}\n",
      "{'y': 51.8682882, 'x': 4.4438388, 'street_count': 4, 'camera': True}\n",
      "{'y': 51.8682882, 'x': 4.4438388, 'street_count': 4, 'camera': True}\n",
      "{'y': 51.904509, 'x': 4.4434621, 'street_count': 2, 'camera': True}\n",
      "{'y': 51.8747956, 'x': 4.4809035, 'street_count': 3, 'camera': True}\n",
      "{'y': 51.9042347, 'x': 4.5028532, 'street_count': 4, 'camera': True}\n",
      "{'y': 51.8909551, 'x': 4.460564, 'street_count': 3, 'camera': True}\n",
      "{'y': 51.8909551, 'x': 4.460564, 'street_count': 3, 'camera': True}\n",
      "{'y': 51.8989614, 'x': 4.5115708, 'street_count': 1, 'camera': True}\n"
     ]
    }
   ],
   "source": [
    "for index, row in df_fixed.iterrows():\n",
    "    \n",
    "    closest_node = None\n",
    "    closest_distance = math.inf \n",
    "    \n",
    "    for index1, node in graph.nodes(data=True):\n",
    "        distance = math.acos(math.sin(row['Latitude']*math.sin(node.get(\"y\"))+math.cos(row['Latitude'])*math.cos(node.get(\"y\"))*math.cos(node.get(\"x\")-row['Longitude'])))*6371\n",
    "        if distance < closest_distance:\n",
    "            closest_distance = distance\n",
    "            closest_node = index1\n",
    "    \n",
    "    df_fixed.at[index, 'distance'] = closest_distance\n",
    "    df_fixed.at[index, 'node'] = closest_node\n",
    "    graph.nodes[closest_node][\"camera\"] = True\n",
    "    print(graph.nodes[closest_node])"
   ]
  },
  {
   "cell_type": "code",
   "execution_count": 98,
   "id": "acc9f4c9",
   "metadata": {},
   "outputs": [
    {
     "data": {
      "text/html": [
       "<div>\n",
       "<style scoped>\n",
       "    .dataframe tbody tr th:only-of-type {\n",
       "        vertical-align: middle;\n",
       "    }\n",
       "\n",
       "    .dataframe tbody tr th {\n",
       "        vertical-align: top;\n",
       "    }\n",
       "\n",
       "    .dataframe thead th {\n",
       "        text-align: right;\n",
       "    }\n",
       "</style>\n",
       "<table border=\"1\" class=\"dataframe\">\n",
       "  <thead>\n",
       "    <tr style=\"text-align: right;\">\n",
       "      <th></th>\n",
       "      <th>Locatienaam</th>\n",
       "      <th>Eenheid</th>\n",
       "      <th>Plaats</th>\n",
       "      <th>Gemeente</th>\n",
       "      <th>Latitude</th>\n",
       "      <th>Longitude</th>\n",
       "      <th>distance</th>\n",
       "      <th>node</th>\n",
       "    </tr>\n",
       "  </thead>\n",
       "  <tbody>\n",
       "    <tr>\n",
       "      <th>0</th>\n",
       "      <td>07 Bosdreef x Boszoom</td>\n",
       "      <td>Rotterdam</td>\n",
       "      <td>Rotterdam</td>\n",
       "      <td>Rotterdam</td>\n",
       "      <td>51.945278</td>\n",
       "      <td>4.526389</td>\n",
       "      <td>0.128408</td>\n",
       "      <td>4.432157e+07</td>\n",
       "    </tr>\n",
       "    <tr>\n",
       "      <th>1</th>\n",
       "      <td>07 Botlekweg na truckpark HBR</td>\n",
       "      <td>Rotterdam</td>\n",
       "      <td>Rotterdam</td>\n",
       "      <td>Rotterdam</td>\n",
       "      <td>51.876145</td>\n",
       "      <td>4.261512</td>\n",
       "      <td>0.051836</td>\n",
       "      <td>4.418888e+07</td>\n",
       "    </tr>\n",
       "    <tr>\n",
       "      <th>2</th>\n",
       "      <td>07 Botlekweg thv Exxon HBR</td>\n",
       "      <td>Rotterdam</td>\n",
       "      <td>Rotterdam</td>\n",
       "      <td>Rotterdam</td>\n",
       "      <td>51.869600</td>\n",
       "      <td>4.303333</td>\n",
       "      <td>0.097882</td>\n",
       "      <td>3.609587e+09</td>\n",
       "    </tr>\n",
       "    <tr>\n",
       "      <th>3</th>\n",
       "      <td>07 Butaanweg HBR</td>\n",
       "      <td>Rotterdam</td>\n",
       "      <td>Rotterdam</td>\n",
       "      <td>Rotterdam</td>\n",
       "      <td>51.881623</td>\n",
       "      <td>4.381338</td>\n",
       "      <td>0.014107</td>\n",
       "      <td>4.420267e+07</td>\n",
       "    </tr>\n",
       "    <tr>\n",
       "      <th>4</th>\n",
       "      <td>07 Dirk v.d. Burgweg HvH</td>\n",
       "      <td>Rotterdam</td>\n",
       "      <td>Hoek van Holland</td>\n",
       "      <td>Rotterdam</td>\n",
       "      <td>51.991769</td>\n",
       "      <td>4.138184</td>\n",
       "      <td>0.084584</td>\n",
       "      <td>4.438267e+07</td>\n",
       "    </tr>\n",
       "    <tr>\n",
       "      <th>...</th>\n",
       "      <td>...</td>\n",
       "      <td>...</td>\n",
       "      <td>...</td>\n",
       "      <td>...</td>\n",
       "      <td>...</td>\n",
       "      <td>...</td>\n",
       "      <td>...</td>\n",
       "      <td>...</td>\n",
       "    </tr>\n",
       "    <tr>\n",
       "      <th>71</th>\n",
       "      <td>S101 Reeweg HBR</td>\n",
       "      <td>Rotterdam</td>\n",
       "      <td>Rotterdam</td>\n",
       "      <td>Rotterdam</td>\n",
       "      <td>51.873324</td>\n",
       "      <td>4.430334</td>\n",
       "      <td>0.024679</td>\n",
       "      <td>4.418312e+07</td>\n",
       "    </tr>\n",
       "    <tr>\n",
       "      <th>72</th>\n",
       "      <td>07 Alexandrium Hfdwg A16</td>\n",
       "      <td>Rotterdam</td>\n",
       "      <td>Rotterdam</td>\n",
       "      <td>Rotterdam</td>\n",
       "      <td>51.948611</td>\n",
       "      <td>4.554167</td>\n",
       "      <td>0.194773</td>\n",
       "      <td>4.432500e+07</td>\n",
       "    </tr>\n",
       "    <tr>\n",
       "      <th>73</th>\n",
       "      <td>A16 Re Pr 20.1 Brienenoordbrug</td>\n",
       "      <td>Rotterdam</td>\n",
       "      <td>Rotterdam</td>\n",
       "      <td>Rotterdam</td>\n",
       "      <td>51.909857</td>\n",
       "      <td>4.538413</td>\n",
       "      <td>0.066801</td>\n",
       "      <td>3.246672e+09</td>\n",
       "    </tr>\n",
       "    <tr>\n",
       "      <th>74</th>\n",
       "      <td>A16 Re Sc 20.1 Brienenoordbrug</td>\n",
       "      <td>Rotterdam</td>\n",
       "      <td>Rotterdam</td>\n",
       "      <td>Rotterdam</td>\n",
       "      <td>51.909857</td>\n",
       "      <td>4.538413</td>\n",
       "      <td>0.066801</td>\n",
       "      <td>3.246672e+09</td>\n",
       "    </tr>\n",
       "    <tr>\n",
       "      <th>75</th>\n",
       "      <td>N15 Re 25.3 Europaweg HBR</td>\n",
       "      <td>Rotterdam</td>\n",
       "      <td>Rotterdam</td>\n",
       "      <td>Rotterdam</td>\n",
       "      <td>51.932821</td>\n",
       "      <td>4.091762</td>\n",
       "      <td>0.411435</td>\n",
       "      <td>4.430414e+07</td>\n",
       "    </tr>\n",
       "  </tbody>\n",
       "</table>\n",
       "<p>76 rows × 8 columns</p>\n",
       "</div>"
      ],
      "text/plain": [
       "                       Locatienaam    Eenheid            Plaats   Gemeente  \\\n",
       "0            07 Bosdreef x Boszoom  Rotterdam         Rotterdam  Rotterdam   \n",
       "1    07 Botlekweg na truckpark HBR  Rotterdam         Rotterdam  Rotterdam   \n",
       "2       07 Botlekweg thv Exxon HBR  Rotterdam         Rotterdam  Rotterdam   \n",
       "3                 07 Butaanweg HBR  Rotterdam         Rotterdam  Rotterdam   \n",
       "4         07 Dirk v.d. Burgweg HvH  Rotterdam  Hoek van Holland  Rotterdam   \n",
       "..                             ...        ...               ...        ...   \n",
       "71                 S101 Reeweg HBR  Rotterdam         Rotterdam  Rotterdam   \n",
       "72        07 Alexandrium Hfdwg A16  Rotterdam         Rotterdam  Rotterdam   \n",
       "73  A16 Re Pr 20.1 Brienenoordbrug  Rotterdam         Rotterdam  Rotterdam   \n",
       "74  A16 Re Sc 20.1 Brienenoordbrug  Rotterdam         Rotterdam  Rotterdam   \n",
       "75       N15 Re 25.3 Europaweg HBR  Rotterdam         Rotterdam  Rotterdam   \n",
       "\n",
       "     Latitude  Longitude  distance          node  \n",
       "0   51.945278   4.526389  0.128408  4.432157e+07  \n",
       "1   51.876145   4.261512  0.051836  4.418888e+07  \n",
       "2   51.869600   4.303333  0.097882  3.609587e+09  \n",
       "3   51.881623   4.381338  0.014107  4.420267e+07  \n",
       "4   51.991769   4.138184  0.084584  4.438267e+07  \n",
       "..        ...        ...       ...           ...  \n",
       "71  51.873324   4.430334  0.024679  4.418312e+07  \n",
       "72  51.948611   4.554167  0.194773  4.432500e+07  \n",
       "73  51.909857   4.538413  0.066801  3.246672e+09  \n",
       "74  51.909857   4.538413  0.066801  3.246672e+09  \n",
       "75  51.932821   4.091762  0.411435  4.430414e+07  \n",
       "\n",
       "[76 rows x 8 columns]"
      ]
     },
     "execution_count": 98,
     "metadata": {},
     "output_type": "execute_result"
    }
   ],
   "source": [
    "df_fixed"
   ]
  },
  {
   "cell_type": "code",
   "execution_count": 103,
   "id": "b2bd33cd",
   "metadata": {},
   "outputs": [],
   "source": [
    "nodeswithcamera = []\n",
    "for (p, d) in graph.nodes(data=True):\n",
    "    if 'camera' in d:\n",
    "        nodeswithcamera.append(p)"
   ]
  },
  {
   "cell_type": "code",
   "execution_count": 105,
   "id": "29b77e14",
   "metadata": {},
   "outputs": [
    {
     "data": {
      "text/plain": [
       "65"
      ]
     },
     "execution_count": 105,
     "metadata": {},
     "output_type": "execute_result"
    }
   ],
   "source": [
    "len(nodeswithcamera)"
   ]
  },
  {
   "cell_type": "code",
   "execution_count": 106,
   "id": "e7c7a394",
   "metadata": {},
   "outputs": [],
   "source": [
    "ox.io.save_graphml(graph, filepath=\"../graph/rotterdam_drive_with_cameras.graphml\")"
   ]
  },
  {
   "cell_type": "code",
   "execution_count": null,
   "id": "ab8e531c",
   "metadata": {},
   "outputs": [],
   "source": []
  }
 ],
 "metadata": {
  "kernelspec": {
   "display_name": "Python 3 (ipykernel)",
   "language": "python",
   "name": "python3"
  },
  "language_info": {
   "codemirror_mode": {
    "name": "ipython",
    "version": 3
   },
   "file_extension": ".py",
   "mimetype": "text/x-python",
   "name": "python",
   "nbconvert_exporter": "python",
   "pygments_lexer": "ipython3",
   "version": "3.8.12"
  }
 },
 "nbformat": 4,
 "nbformat_minor": 5
}
