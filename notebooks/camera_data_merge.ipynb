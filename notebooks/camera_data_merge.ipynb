{
 "cells": [
  {
   "cell_type": "code",
   "execution_count": 1,
   "id": "dae3d4cd",
   "metadata": {},
   "outputs": [
    {
     "name": "stderr",
     "output_type": "stream",
     "text": [
      "C:\\Users\\Willemijn Tutuarima\\miniconda3\\envs\\gds\\lib\\site-packages\\geopandas\\_compat.py:106: UserWarning: The Shapely GEOS version (3.9.1dev-CAPI-1.14.1) is incompatible with the GEOS version PyGEOS was compiled with (3.9.1-CAPI-1.14.2). Conversions between both will be slow.\n",
      "  warnings.warn(\n"
     ]
    }
   ],
   "source": [
    "import pandas as pd\n",
    "import osmnx as ox\n",
    "import networkx as nx"
   ]
  },
  {
   "cell_type": "markdown",
   "id": "d35bcaac",
   "metadata": {},
   "source": [
    "### Code to get the cameras in Rotterdam from dataset"
   ]
  },
  {
   "cell_type": "code",
   "execution_count": 18,
   "id": "2356aaf1",
   "metadata": {},
   "outputs": [],
   "source": [
    "path=\"../data/camera_data2.xlsx\""
   ]
  },
  {
   "cell_type": "code",
   "execution_count": 19,
   "id": "e0c5bece",
   "metadata": {},
   "outputs": [],
   "source": [
    "xls = pd.ExcelFile(path)\n"
   ]
  },
  {
   "cell_type": "code",
   "execution_count": 20,
   "id": "ac4d2651",
   "metadata": {},
   "outputs": [],
   "source": [
    "df1= pd.read_excel(xls, 'Table001 (Page 1)')\n",
    "df2= pd.read_excel(xls, 'Table002 (Page 2)')\n",
    "df3= pd.read_excel(xls, 'Table003 (Page 3)')\n",
    "df4= pd.read_excel(xls, 'Table004 (Page 4)')\n",
    "df5= pd.read_excel(xls, 'Table005 (Page 5)')\n",
    "df6= pd.read_excel(xls, 'Table006 (Page 6)')\n",
    "df7= pd.read_excel(xls, 'Table007 (Page 7)')\n",
    "df8= pd.read_excel(xls, 'Table008 (Page 8)')\n",
    "df9= pd.read_excel(xls, 'Table009 (Page 9)')\n",
    "df10= pd.read_excel(xls, 'Table010 (Page 10)')\n",
    "df11= pd.read_excel(xls, 'Table011 (Page 11)')"
   ]
  },
  {
   "cell_type": "code",
   "execution_count": 21,
   "id": "0d686d60",
   "metadata": {},
   "outputs": [
    {
     "data": {
      "text/plain": [
       "Index(['Locatienaam', 'Eenheid', 'Plaats', 'Gemeente', 'Latitude', 'Longitude',\n",
       "       'reden 1', 'reden 2', 'reden 3', 'reden 4'],\n",
       "      dtype='object')"
      ]
     },
     "execution_count": 21,
     "metadata": {},
     "output_type": "execute_result"
    }
   ],
   "source": [
    "df1.columns"
   ]
  },
  {
   "cell_type": "code",
   "execution_count": 22,
   "id": "110c12e7",
   "metadata": {
    "tags": []
   },
   "outputs": [
    {
     "data": {
      "text/html": [
       "<div>\n",
       "<style scoped>\n",
       "    .dataframe tbody tr th:only-of-type {\n",
       "        vertical-align: middle;\n",
       "    }\n",
       "\n",
       "    .dataframe tbody tr th {\n",
       "        vertical-align: top;\n",
       "    }\n",
       "\n",
       "    .dataframe thead th {\n",
       "        text-align: right;\n",
       "    }\n",
       "</style>\n",
       "<table border=\"1\" class=\"dataframe\">\n",
       "  <thead>\n",
       "    <tr style=\"text-align: right;\">\n",
       "      <th></th>\n",
       "      <th>Locatienaam</th>\n",
       "      <th>Eenheid</th>\n",
       "      <th>Plaats</th>\n",
       "      <th>Gemeente</th>\n",
       "      <th>Latitude</th>\n",
       "      <th>Longitude</th>\n",
       "      <th>reden 1</th>\n",
       "      <th>reden 2</th>\n",
       "      <th>reden 3</th>\n",
       "      <th>reden 4</th>\n",
       "    </tr>\n",
       "  </thead>\n",
       "  <tbody>\n",
       "    <tr>\n",
       "      <th>0</th>\n",
       "      <td>01 Emmaviad. ri Julianapl</td>\n",
       "      <td>Noord-Nederland</td>\n",
       "      <td>Groningen</td>\n",
       "      <td>Groningen</td>\n",
       "      <td>53206667</td>\n",
       "      <td>6562222</td>\n",
       "      <td>x</td>\n",
       "      <td>x</td>\n",
       "      <td>x</td>\n",
       "      <td>x</td>\n",
       "    </tr>\n",
       "    <tr>\n",
       "      <th>1</th>\n",
       "      <td>01 Emmaviaduct ri Centrum</td>\n",
       "      <td>Noord-Nederland</td>\n",
       "      <td>Groningen</td>\n",
       "      <td>Groningen</td>\n",
       "      <td>53206667</td>\n",
       "      <td>65625</td>\n",
       "      <td>x</td>\n",
       "      <td>x</td>\n",
       "      <td>x</td>\n",
       "      <td>x</td>\n",
       "    </tr>\n",
       "    <tr>\n",
       "      <th>2</th>\n",
       "      <td>01 LWRDN Adlansdk ri Greunsbrg</td>\n",
       "      <td>Noord-Nederland</td>\n",
       "      <td>Leeuwarden</td>\n",
       "      <td>Leeuwarden</td>\n",
       "      <td>53190627</td>\n",
       "      <td>5822761</td>\n",
       "      <td>x</td>\n",
       "      <td>x</td>\n",
       "      <td>x</td>\n",
       "      <td>x</td>\n",
       "    </tr>\n",
       "    <tr>\n",
       "      <th>3</th>\n",
       "      <td>01 LWRDN Greunsbrug</td>\n",
       "      <td>Noord-Nederland</td>\n",
       "      <td>Leeuwarden</td>\n",
       "      <td>Leeuwarden</td>\n",
       "      <td>53192767</td>\n",
       "      <td>5835468</td>\n",
       "      <td>x</td>\n",
       "      <td>x</td>\n",
       "      <td>x</td>\n",
       "      <td>x</td>\n",
       "    </tr>\n",
       "    <tr>\n",
       "      <th>4</th>\n",
       "      <td>01 LWRDN Holstmrwg richting PI</td>\n",
       "      <td>Noord-Nederland</td>\n",
       "      <td>Leeuwarden</td>\n",
       "      <td>Leeuwarden</td>\n",
       "      <td>53191878</td>\n",
       "      <td>5823654</td>\n",
       "      <td>x</td>\n",
       "      <td>x</td>\n",
       "      <td>x</td>\n",
       "      <td>x</td>\n",
       "    </tr>\n",
       "  </tbody>\n",
       "</table>\n",
       "</div>"
      ],
      "text/plain": [
       "                      Locatienaam          Eenheid      Plaats    Gemeente  \\\n",
       "0       01 Emmaviad. ri Julianapl  Noord-Nederland   Groningen   Groningen   \n",
       "1       01 Emmaviaduct ri Centrum  Noord-Nederland   Groningen   Groningen   \n",
       "2  01 LWRDN Adlansdk ri Greunsbrg  Noord-Nederland  Leeuwarden  Leeuwarden   \n",
       "3             01 LWRDN Greunsbrug  Noord-Nederland  Leeuwarden  Leeuwarden   \n",
       "4  01 LWRDN Holstmrwg richting PI  Noord-Nederland  Leeuwarden  Leeuwarden   \n",
       "\n",
       "   Latitude  Longitude reden 1 reden 2 reden 3 reden 4  \n",
       "0  53206667    6562222       x       x       x       x  \n",
       "1  53206667      65625       x       x       x       x  \n",
       "2  53190627    5822761       x       x       x       x  \n",
       "3  53192767    5835468       x       x       x       x  \n",
       "4  53191878    5823654       x       x       x       x  "
      ]
     },
     "execution_count": 22,
     "metadata": {},
     "output_type": "execute_result"
    }
   ],
   "source": [
    "df1.head()"
   ]
  },
  {
   "cell_type": "code",
   "execution_count": 23,
   "id": "b7841e2e",
   "metadata": {},
   "outputs": [
    {
     "data": {
      "text/html": [
       "<div>\n",
       "<style scoped>\n",
       "    .dataframe tbody tr th:only-of-type {\n",
       "        vertical-align: middle;\n",
       "    }\n",
       "\n",
       "    .dataframe tbody tr th {\n",
       "        vertical-align: top;\n",
       "    }\n",
       "\n",
       "    .dataframe thead th {\n",
       "        text-align: right;\n",
       "    }\n",
       "</style>\n",
       "<table border=\"1\" class=\"dataframe\">\n",
       "  <thead>\n",
       "    <tr style=\"text-align: right;\">\n",
       "      <th></th>\n",
       "      <th>Locatienaam</th>\n",
       "      <th>Eenheid</th>\n",
       "      <th>Plaats</th>\n",
       "      <th>Gemeente</th>\n",
       "      <th>Latitude</th>\n",
       "      <th>Longitude</th>\n",
       "      <th>reden 1</th>\n",
       "      <th>reden 2</th>\n",
       "      <th>reden 3</th>\n",
       "      <th>reden 4</th>\n",
       "    </tr>\n",
       "  </thead>\n",
       "  <tbody>\n",
       "    <tr>\n",
       "      <th>0</th>\n",
       "      <td>07 Maastunnel ZN</td>\n",
       "      <td>Rotterdam</td>\n",
       "      <td>Rotterdam</td>\n",
       "      <td>Rotterdam</td>\n",
       "      <td>51905906</td>\n",
       "      <td>4466983</td>\n",
       "      <td>NaN</td>\n",
       "      <td>x</td>\n",
       "      <td>x</td>\n",
       "      <td>x</td>\n",
       "    </tr>\n",
       "    <tr>\n",
       "      <th>1</th>\n",
       "      <td>07 Matlingeweg Doenkade</td>\n",
       "      <td>Rotterdam</td>\n",
       "      <td>Rotterdam</td>\n",
       "      <td>Rotterdam</td>\n",
       "      <td>51946869</td>\n",
       "      <td>440852</td>\n",
       "      <td>NaN</td>\n",
       "      <td>x</td>\n",
       "      <td>x</td>\n",
       "      <td>x</td>\n",
       "    </tr>\n",
       "    <tr>\n",
       "      <th>2</th>\n",
       "      <td>07 Matlingeweg Schiekade</td>\n",
       "      <td>Rotterdam</td>\n",
       "      <td>Rotterdam</td>\n",
       "      <td>Rotterdam</td>\n",
       "      <td>51938183</td>\n",
       "      <td>4411434</td>\n",
       "      <td>NaN</td>\n",
       "      <td>x</td>\n",
       "      <td>x</td>\n",
       "      <td>x</td>\n",
       "    </tr>\n",
       "    <tr>\n",
       "      <th>3</th>\n",
       "      <td>07 Merw.str xN3 ri 's-Gravendl</td>\n",
       "      <td>Rotterdam</td>\n",
       "      <td>Dordrecht</td>\n",
       "      <td>Dordrecht</td>\n",
       "      <td>5181707</td>\n",
       "      <td>470423</td>\n",
       "      <td>NaN</td>\n",
       "      <td>x</td>\n",
       "      <td>x</td>\n",
       "      <td>x</td>\n",
       "    </tr>\n",
       "    <tr>\n",
       "      <th>4</th>\n",
       "      <td>07 Merwedestr x N3 ri P-drecht</td>\n",
       "      <td>Rotterdam</td>\n",
       "      <td>Dordrecht</td>\n",
       "      <td>Dordrecht</td>\n",
       "      <td>51816943</td>\n",
       "      <td>4708611</td>\n",
       "      <td>NaN</td>\n",
       "      <td>x</td>\n",
       "      <td>x</td>\n",
       "      <td>x</td>\n",
       "    </tr>\n",
       "  </tbody>\n",
       "</table>\n",
       "</div>"
      ],
      "text/plain": [
       "                      Locatienaam    Eenheid     Plaats   Gemeente  Latitude  \\\n",
       "0                07 Maastunnel ZN  Rotterdam  Rotterdam  Rotterdam  51905906   \n",
       "1         07 Matlingeweg Doenkade  Rotterdam  Rotterdam  Rotterdam  51946869   \n",
       "2        07 Matlingeweg Schiekade  Rotterdam  Rotterdam  Rotterdam  51938183   \n",
       "3  07 Merw.str xN3 ri 's-Gravendl  Rotterdam  Dordrecht  Dordrecht   5181707   \n",
       "4  07 Merwedestr x N3 ri P-drecht  Rotterdam  Dordrecht  Dordrecht  51816943   \n",
       "\n",
       "   Longitude reden 1 reden 2 reden 3 reden 4  \n",
       "0    4466983     NaN       x       x       x  \n",
       "1     440852     NaN       x       x       x  \n",
       "2    4411434     NaN       x       x       x  \n",
       "3     470423     NaN       x       x       x  \n",
       "4    4708611     NaN       x       x       x  "
      ]
     },
     "execution_count": 23,
     "metadata": {},
     "output_type": "execute_result"
    }
   ],
   "source": [
    "df2.head()"
   ]
  },
  {
   "cell_type": "code",
   "execution_count": 24,
   "id": "f645f3c3",
   "metadata": {},
   "outputs": [
    {
     "name": "stdout",
     "output_type": "stream",
     "text": [
      "Sheet 1, number of cameras in Rotterdam is,  14\n",
      "Sheet 2, number of cameras in Rotterdam is,  35\n",
      "Sheet 3, number of cameras in Rotterdam is,  11\n",
      "Sheet 4, number of cameras in Rotterdam is,  10\n",
      "Sheet 5, number of cameras in Rotterdam is,  1\n",
      "Sheet 6, number of cameras in Rotterdam is,  1\n",
      "Sheet 7, number of cameras in Rotterdam is,  0\n",
      "Sheet 8, number of cameras in Rotterdam is,  1\n",
      "Sheet 9, number of cameras in Rotterdam is,  2\n",
      "Sheet 10, number of cameras in Rotterdam is,  1\n",
      "Sheet 11, number of cameras in Rotterdam is,  0\n"
     ]
    }
   ],
   "source": [
    "print(\"Sheet 1, number of cameras in Rotterdam is, \", len(df1[df1[\"Gemeente\"] == \"Rotterdam\"]))\n",
    "print(\"Sheet 2, number of cameras in Rotterdam is, \", len(df2[df2[\"Gemeente\"] == \"Rotterdam\"]))\n",
    "print(\"Sheet 3, number of cameras in Rotterdam is, \", len(df3[df3[\"Gemeente\"] == \"Rotterdam\"]))\n",
    "print(\"Sheet 4, number of cameras in Rotterdam is, \", len(df4[df4[\"Gemeente\"] == \"Rotterdam\"]))\n",
    "print(\"Sheet 5, number of cameras in Rotterdam is, \", len(df5[df5[\"Gemeente\"] == \"Rotterdam\"]))\n",
    "print(\"Sheet 6, number of cameras in Rotterdam is, \", len(df6[df6[\"Gemeente\"] == \"Rotterdam\"]))\n",
    "print(\"Sheet 7, number of cameras in Rotterdam is, \", len(df7[df7[\"Gemeente\"] == \"Rotterdam\"]))\n",
    "print(\"Sheet 8, number of cameras in Rotterdam is, \", len(df8[df8[\"Gemeente\"] == \"Rotterdam\"]))\n",
    "print(\"Sheet 9, number of cameras in Rotterdam is, \", len(df9[df9[\"Gemeente\"] == \"Rotterdam\"]))\n",
    "print(\"Sheet 10, number of cameras in Rotterdam is, \", len(df10[df10[\"Gemeente\"] == \"Rotterdam\"]))\n",
    "print(\"Sheet 11, number of cameras in Rotterdam is, \", len(df11[df11[\"Gemeente\"] == \"Rotterdam\"]))\n"
   ]
  },
  {
   "cell_type": "code",
   "execution_count": 31,
   "id": "d8580706",
   "metadata": {},
   "outputs": [],
   "source": [
    "df = pd.DataFrame(columns=df1.columns)"
   ]
  },
  {
   "cell_type": "code",
   "execution_count": 32,
   "id": "a23b648d",
   "metadata": {},
   "outputs": [],
   "source": [
    "df = pd.concat([df, df1[df1[\"Gemeente\"] == \"Rotterdam\"]])\n",
    "df = pd.concat([df, df2[df2[\"Gemeente\"] == \"Rotterdam\"]])\n",
    "df = pd.concat([df, df3[df3[\"Gemeente\"] == \"Rotterdam\"]])\n",
    "df = pd.concat([df, df4[df4[\"Gemeente\"] == \"Rotterdam\"]])\n",
    "df = pd.concat([df, df5[df5[\"Gemeente\"] == \"Rotterdam\"]])\n",
    "df = pd.concat([df, df6[df6[\"Gemeente\"] == \"Rotterdam\"]])\n",
    "df = pd.concat([df, df7[df7[\"Gemeente\"] == \"Rotterdam\"]])\n",
    "df = pd.concat([df, df8[df8[\"Gemeente\"] == \"Rotterdam\"]])\n",
    "df = pd.concat([df, df9[df9[\"Gemeente\"] == \"Rotterdam\"]])\n",
    "df = pd.concat([df, df10[df10[\"Gemeente\"] == \"Rotterdam\"]])\n",
    "df = pd.concat([df, df11[df11[\"Gemeente\"] == \"Rotterdam\"]])"
   ]
  },
  {
   "cell_type": "code",
   "execution_count": 42,
   "id": "e90d6f50",
   "metadata": {},
   "outputs": [
    {
     "name": "stdout",
     "output_type": "stream",
     "text": [
      "number of duplicated is  0\n"
     ]
    }
   ],
   "source": [
    "print(\"number of duplicated is \", df.duplicated().values.sum())"
   ]
  },
  {
   "cell_type": "markdown",
   "id": "4657cff9",
   "metadata": {},
   "source": [
    "## Code to merge cameras data with graph "
   ]
  },
  {
   "cell_type": "code",
   "execution_count": 43,
   "id": "34e900e2",
   "metadata": {},
   "outputs": [],
   "source": [
    "filepath = \"../graph/rotterdam_drive.graphml\"\n",
    "graph = ox.load_graphml(filepath)"
   ]
  },
  {
   "cell_type": "code",
   "execution_count": null,
   "id": "ffeb67cc",
   "metadata": {},
   "outputs": [],
   "source": []
  }
 ],
 "metadata": {
  "kernelspec": {
   "display_name": "Python 3 (ipykernel)",
   "language": "python",
   "name": "python3"
  },
  "language_info": {
   "codemirror_mode": {
    "name": "ipython",
    "version": 3
   },
   "file_extension": ".py",
   "mimetype": "text/x-python",
   "name": "python",
   "nbconvert_exporter": "python",
   "pygments_lexer": "ipython3",
   "version": "3.8.12"
  }
 },
 "nbformat": 4,
 "nbformat_minor": 5
}
