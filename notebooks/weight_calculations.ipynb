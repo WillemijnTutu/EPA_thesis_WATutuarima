{
 "cells": [
  {
   "cell_type": "code",
   "execution_count": 1,
   "id": "838e90cb",
   "metadata": {},
   "outputs": [
    {
     "name": "stderr",
     "output_type": "stream",
     "text": [
      "C:\\Users\\Willemijn Tutuarima\\miniconda3\\envs\\gds\\lib\\site-packages\\geopandas\\_compat.py:106: UserWarning: The Shapely GEOS version (3.9.1dev-CAPI-1.14.1) is incompatible with the GEOS version PyGEOS was compiled with (3.9.1-CAPI-1.14.2). Conversions between both will be slow.\n",
      "  warnings.warn(\n"
     ]
    }
   ],
   "source": [
    "import pandas as pd\n",
    "import osmnx as ox\n",
    "import networkx as nx\n",
    "import math\n",
    "from numpy import linalg as LA\n",
    "import numpy as np"
   ]
  },
  {
   "cell_type": "markdown",
   "id": "fb6cf933",
   "metadata": {},
   "source": [
    "# File to calculate the weights of edges"
   ]
  },
  {
   "cell_type": "code",
   "execution_count": 2,
   "id": "ab7277fb",
   "metadata": {},
   "outputs": [],
   "source": [
    "filepath=\"../graph/rotterdam_drive_bbox_cameras_traffic_lights_bridges_roundabouts_tunnels.graphml\""
   ]
  },
  {
   "cell_type": "code",
   "execution_count": 3,
   "id": "398d3190",
   "metadata": {},
   "outputs": [],
   "source": [
    "graph=ox.load_graphml(filepath)"
   ]
  },
  {
   "cell_type": "markdown",
   "id": "49bd2d46",
   "metadata": {},
   "source": [
    "## Start with default"
   ]
  },
  {
   "cell_type": "code",
   "execution_count": 6,
   "id": "0ece99cd",
   "metadata": {},
   "outputs": [],
   "source": [
    "for road_id, (origin_num, destination_num, data) in enumerate(graph.edges(data=True)):\n",
    "    if isinstance(data.get('maxspeed'),list):\n",
    "        nx.set_edge_attributes(graph,\n",
    "                               {(origin_num, destination_num, 0): {\n",
    "                                   \"default\": data.get('length') / float(data.get('maxspeed')[0])},\n",
    "                                (origin_num, destination_num, 1): {\n",
    "                                    \"default\": data.get('length') / float(data.get('maxspeed')[1])}})\n",
    "\n",
    "    elif isinstance(data.get('maxspeed'),str):\n",
    "        nx.set_edge_attributes(graph,\n",
    "                           {(origin_num, destination_num, 0): {\"time_to_cross\": data.get('length') / float(data.get('maxspeed'))},\n",
    "                            (origin_num, destination_num, 1): {\"time_to_cross\": data.get('length') / float(data.get('maxspeed'))}})\n",
    "\n",
    "    else:\n",
    "        # if maximum speed is not specified, max speed of 30 km/h is assumed\n",
    "        # the number of edges without maximum speed is 2402, from the total of 25348 edges (so 9.47%)\n",
    "        nx.set_edge_attributes(graph,\n",
    "                               {(origin_num, destination_num, 0): {\n",
    "                                   \"default\": data.get('length') / 30.0},\n",
    "                                (origin_num, destination_num, 1): {\n",
    "                                    \"default\": data.get('length') / 30.0}})"
   ]
  },
  {
   "cell_type": "markdown",
   "id": "fed21726",
   "metadata": {},
   "source": [
    "## Camera avoidance "
   ]
  },
  {
   "cell_type": "code",
   "execution_count": 8,
   "id": "36e4f5bf",
   "metadata": {},
   "outputs": [],
   "source": [
    "for road_id, (origin_num, destination_num, data) in enumerate(graph.edges(data=True)):\n",
    "    if isinstance(data.get(\"camera\"), bool):\n",
    "        #Low\n",
    "        nx.set_edge_attributes(graph,\n",
    "                               {(origin_num, destination_num, 0): {\n",
    "                                   \"CA1OA0LP0RP0WW0HS0SR0TA0\": data.get('default') * 10 },\n",
    "                                (origin_num, destination_num, 1): {\n",
    "                                    \"CA1OA0LP0RP0WW0HS0SR0TA0\": data.get('default') * 10}})\n",
    "        \n",
    "        #Medium\n",
    "        nx.set_edge_attributes(graph,\n",
    "                               {(origin_num, destination_num, 0): {\n",
    "                                   \"CA2OA0LP0RP0WW0HS0SR0TA0\": data.get('default') * 50},\n",
    "                                (origin_num, destination_num, 1): {\n",
    "                                    \"CA2OA0LP0RP0WW0HS0SR0TA0\": data.get('default') * 50}})\n",
    "        \n",
    "        #High\n",
    "        \n",
    "        nx.set_edge_attributes(graph,\n",
    "                               {(origin_num, destination_num, 0): {\n",
    "                                   \"CA3OA0LP0RP0WW0HS0SR0TA0\": data.get('default') * 100},\n",
    "                                (origin_num, destination_num, 1): {\n",
    "                                    \"CA3OA0LP0RP0WW0HS0SR0TA0\": data.get('default') * 100}})"
   ]
  },
  {
   "cell_type": "markdown",
   "id": "1d7955d3",
   "metadata": {},
   "source": [
    "## obstacle avoidance"
   ]
  },
  {
   "cell_type": "code",
   "execution_count": null,
   "id": "5f3039a5",
   "metadata": {},
   "outputs": [],
   "source": [
    "for road_id, (origin_num, destination_num, data) in enumerate(graph.edges(data=True)):\n",
    "    if isinstance(data.get(\"tunnel\"), bool) | isinstance(data.get(\"roundabout\"), bool) | isinstance(data.get(\"bridge\"), bool) | isinstance(data.get(\"traffic_light\"), bool):\n",
    "        #Low\n",
    "        nx.set_edge_attributes(graph,\n",
    "                               {(origin_num, destination_num, 0): {\n",
    "                                   \"CA0OA1LP0RP0WW0HS0SR0TA0\": data.get('default') * 1.2 },\n",
    "                                (origin_num, destination_num, 1): {\n",
    "                                    \"CA0OA1LP0RP0WW0HS0SR0TA0\": data.get('default') * 1.2}})\n",
    "        \n",
    "        #Medium\n",
    "        nx.set_edge_attributes(graph,\n",
    "                               {(origin_num, destination_num, 0): {\n",
    "                                   \"CA0OA2LP0RP0WW0HS0SR0TA0\": data.get('default') * 1.4},\n",
    "                                (origin_num, destination_num, 1): {\n",
    "                                    \"CA0OA2LP0RP0WW0HS0SR0TA0\": data.get('default') * 1.4}})\n",
    "        \n",
    "        #High\n",
    "        \n",
    "        nx.set_edge_attributes(graph,\n",
    "                               {(origin_num, destination_num, 0): {\n",
    "                                   \"CA0OA3LP0RP0WW0HS0SR0TA0\": data.get('default') * 1.6},\n",
    "                                (origin_num, destination_num, 1): {\n",
    "                                    \"CA0OA3LP0RP0WW0HS0SR0TA0\": data.get('default') * 1.6}})"
   ]
  },
  {
   "cell_type": "markdown",
   "id": "b9c27344",
   "metadata": {},
   "source": [
    "## Lane preference"
   ]
  },
  {
   "cell_type": "code",
   "execution_count": null,
   "id": "efa50a02",
   "metadata": {},
   "outputs": [],
   "source": [
    "for road_id, (origin_num, destination_num, data) in enumerate(graph.edges(data=True)):\n",
    "    if 'lanes' in data:\n",
    "        if int(data.get('lanes')) > 1:\n",
    "            #Low\n",
    "            nx.set_edge_attributes(graph,\n",
    "                                   {(origin_num, destination_num, 0): {\n",
    "                                       \"CA0OA0LP1RP0WW0HS0SR0TA0\": data.get('default') * 0.9 },\n",
    "                                    (origin_num, destination_num, 1): {\n",
    "                                        \"CA0OA0LP1RP0WW0HS0SR0TA0\": data.get('default') * 0.9}})\n",
    "\n",
    "            #Medium\n",
    "            nx.set_edge_attributes(graph,\n",
    "                                   {(origin_num, destination_num, 0): {\n",
    "                                       \"CA0OA0LP2RP0WW0HS0SR0TA0\": data.get('default') * 0.8},\n",
    "                                    (origin_num, destination_num, 1): {\n",
    "                                        \"CA0OA0LP2RP0WW0HS0SR0TA0\": data.get('default') * 0.8}})\n",
    "\n",
    "            #High\n",
    "\n",
    "            nx.set_edge_attributes(graph,\n",
    "                                   {(origin_num, destination_num, 0): {\n",
    "                                       \"CA0OA0LP3RP0WW0HS0SR0TA0\": data.get('default') * 0.7},\n",
    "                                    (origin_num, destination_num, 1): {\n",
    "                                        \"CA0OA0LP3RP0WW0HS0SR0TA0\": data.get('default') * 0.7}})"
   ]
  },
  {
   "cell_type": "markdown",
   "id": "632fe186",
   "metadata": {},
   "source": [
    "## Residential preference"
   ]
  },
  {
   "cell_type": "code",
   "execution_count": null,
   "id": "dc911804",
   "metadata": {},
   "outputs": [],
   "source": [
    "for road_id, (origin_num, destination_num, data) in enumerate(graph.edges(data=True)):\n",
    "    if 'highway' in data:\n",
    "        if data.get('highway') == \"residential\":\n",
    "            #Low pos\n",
    "            nx.set_edge_attributes(graph,\n",
    "                                   {(origin_num, destination_num, 0): {\n",
    "                                       \"CA0OA0LP0RP1WW0HS0SR0TA0\": data.get('default') * 0.9 },\n",
    "                                    (origin_num, destination_num, 1): {\n",
    "                                        \"CA0OA0LP0RP1WW0HS0SR0TA0\": data.get('default') * 0.9}})\n",
    "\n",
    "            #Medium pos\n",
    "            nx.set_edge_attributes(graph,\n",
    "                                   {(origin_num, destination_num, 0): {\n",
    "                                       \"CA0OA0LP0RP2WW0HS0SR0TA0\": data.get('default') * 0.8},\n",
    "                                    (origin_num, destination_num, 1): {\n",
    "                                        \"CA0OA0LP0RP2WW0HS0SR0TA0\": data.get('default') * 0.8}})\n",
    "\n",
    "            #High pos\n",
    "\n",
    "            nx.set_edge_attributes(graph,\n",
    "                                   {(origin_num, destination_num, 0): {\n",
    "                                       \"CA0OA0LP0RP3WW0HS0SR0TA0\": data.get('default') * 0.7},\n",
    "                                    (origin_num, destination_num, 1): {\n",
    "                                        \"CA0OA0LP0RP3WW0HS0SR0TA0\": data.get('default') * 0.7}})\n",
    "            \n",
    "            #low neg\n",
    "            nx.set_edge_attributes(graph,\n",
    "                                   {(origin_num, destination_num, 0): {\n",
    "                                       \"CA0OA0LP0RP4WW0HS0SR0TA0\": data.get('default') * 1.2},\n",
    "                                    (origin_num, destination_num, 1): {\n",
    "                                        \"CA0OA0LP0RP4WW0HS0SR0TA0\": data.get('default') * 1.2}})\n",
    "\n",
    "            #Medium neg\n",
    "            nx.set_edge_attributes(graph,\n",
    "                                   {(origin_num, destination_num, 0): {\n",
    "                                       \"CA0OA0LP0RP4WW0HS0SR0TA0\": data.get('default') * 1.4},\n",
    "                                    (origin_num, destination_num, 1): {\n",
    "                                        \"CA0OA0LP0RP4WW0HS0SR0TA0\": data.get('default') * 1.4}})\n",
    "\n",
    "            #High neg\n",
    "\n",
    "            nx.set_edge_attributes(graph,\n",
    "                                   {(origin_num, destination_num, 0): {\n",
    "                                       \"CA0OA0LP0RP4WW0HS0SR0TA0\": data.get('default') * 1.6},\n",
    "                                    (origin_num, destination_num, 1): {\n",
    "                                        \"CA0OA0LP0RP4WW0HS0SR0TA0\": data.get('default') * 1.6}})"
   ]
  },
  {
   "cell_type": "markdown",
   "id": "51b7565d",
   "metadata": {},
   "source": [
    "## Wrong way "
   ]
  },
  {
   "cell_type": "code",
   "execution_count": null,
   "id": "a555d12c",
   "metadata": {},
   "outputs": [],
   "source": [
    "for road_id, (origin_num, destination_num, data) in enumerate(graph.edges(data=True)):\n",
    "    if 'oneway' in data:\n",
    "        if data.get('oneway'):\n",
    "            #Low pos\n",
    "            nx.set_edge_attributes(graph,\n",
    "                                   {(origin_num, destination_num, 0): {\n",
    "                                       \"CA0OA0LP0RP0WW1HS0SR0TA0\": data.get('default') * 0.9},\n",
    "                                    (origin_num, destination_num, 1): {\n",
    "                                        \"CA0OA0LP0RP0WW1HS0SR0TA0\": data.get('default') * 0.9}})\n",
    "\n",
    "            #Medium pos \n",
    "            nx.set_edge_attributes(graph,\n",
    "                                   {(origin_num, destination_num, 0): {\n",
    "                                       \"CA0OA0LP0RP0WW2HS0SR0TA0\": data.get('default') * 0.8},\n",
    "                                    (origin_num, destination_num, 1): {\n",
    "                                        \"CA0OA0LP0RP0WW2HS0SR0TA0\": data.get('default') * 0.8}})\n",
    "\n",
    "            #High pos\n",
    "\n",
    "            nx.set_edge_attributes(graph,\n",
    "                                   {(origin_num, destination_num, 0): {\n",
    "                                       \"CA0OA0LP0RP0WW3HS0SR0TA0\": data.get('default') * 0.7},\n",
    "                                    (origin_num, destination_num, 1): {\n",
    "                                        \"CA0OA0LP0RP0WW3HS0SR0TA0\": data.get('default') * 0.7}})\n",
    "            \n",
    "            #low neg\n",
    "            nx.set_edge_attributes(graph,\n",
    "                                   {(origin_num, destination_num, 0): {\n",
    "                                       \"CA0OA0LP0RP0WW4HS0SR0TA0\": data.get('default') * 1.2},\n",
    "                                    (origin_num, destination_num, 1): {\n",
    "                                        \"CA0OA0LP0RP0WW4HS0SR0TA0\": data.get('default') * 1.2}})\n",
    "\n",
    "            #Medium neg\n",
    "            nx.set_edge_attributes(graph,\n",
    "                                   {(origin_num, destination_num, 0): {\n",
    "                                       \"CA0OA0LP0RP0WW5HS0SR0TA0\": data.get('default') * 1.4},\n",
    "                                    (origin_num, destination_num, 1): {\n",
    "                                        \"CA0OA0LP0RP0WW5HS0SR0TA0\": data.get('default') * 1.4}})\n",
    "\n",
    "            #High neg\n",
    "            nx.set_edge_attributes(graph,\n",
    "                                   {(origin_num, destination_num, 0): {\n",
    "                                       \"CA0OA0LP0RP0WW6HS0SR0TA0\": data.get('default') * 1.6},\n",
    "                                    (origin_num, destination_num, 1): {\n",
    "                                        \"CA0OA0LP0RP0WW6HS0SR0TA0\": data.get('default') * 1.6}})"
   ]
  },
  {
   "cell_type": "code",
   "execution_count": null,
   "id": "8a608169",
   "metadata": {},
   "outputs": [],
   "source": []
  }
 ],
 "metadata": {
  "kernelspec": {
   "display_name": "Python 3 (ipykernel)",
   "language": "python",
   "name": "python3"
  },
  "language_info": {
   "codemirror_mode": {
    "name": "ipython",
    "version": 3
   },
   "file_extension": ".py",
   "mimetype": "text/x-python",
   "name": "python",
   "nbconvert_exporter": "python",
   "pygments_lexer": "ipython3",
   "version": "3.8.12"
  }
 },
 "nbformat": 4,
 "nbformat_minor": 5
}
