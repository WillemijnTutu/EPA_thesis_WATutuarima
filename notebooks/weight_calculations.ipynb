{
 "cells": [
  {
   "cell_type": "code",
   "execution_count": 3,
   "id": "b7cd3586",
   "metadata": {},
   "outputs": [
    {
     "name": "stderr",
     "output_type": "stream",
     "text": [
      "C:\\Users\\Willemijn Tutuarima\\miniconda3\\envs\\gds\\lib\\site-packages\\geopandas\\_compat.py:106: UserWarning: The Shapely GEOS version (3.9.1dev-CAPI-1.14.1) is incompatible with the GEOS version PyGEOS was compiled with (3.9.1-CAPI-1.14.2). Conversions between both will be slow.\n",
      "  warnings.warn(\n"
     ]
    }
   ],
   "source": [
    "import pandas as pd\n",
    "import osmnx as ox\n",
    "import networkx as nx\n",
    "import math\n",
    "from numpy import linalg as LA\n",
    "import numpy as np"
   ]
  },
  {
   "cell_type": "markdown",
   "id": "0e296085",
   "metadata": {},
   "source": [
    "# File to calculate the weights of edges"
   ]
  },
  {
   "cell_type": "code",
   "execution_count": 1,
   "id": "2f45f12b",
   "metadata": {},
   "outputs": [],
   "source": [
    "filepath=\"../graph/rotterdam_drive_bbox_cameras_traffic_lights_bridges_roundabouts.graphml\""
   ]
  },
  {
   "cell_type": "code",
   "execution_count": 4,
   "id": "4ad9d362",
   "metadata": {},
   "outputs": [],
   "source": [
    "graph=ox.load_graphml(filepath)"
   ]
  },
  {
   "cell_type": "code",
   "execution_count": null,
   "id": "fa69b121",
   "metadata": {},
   "outputs": [],
   "source": []
  }
 ],
 "metadata": {
  "kernelspec": {
   "display_name": "Python 3 (ipykernel)",
   "language": "python",
   "name": "python3"
  },
  "language_info": {
   "codemirror_mode": {
    "name": "ipython",
    "version": 3
   },
   "file_extension": ".py",
   "mimetype": "text/x-python",
   "name": "python",
   "nbconvert_exporter": "python",
   "pygments_lexer": "ipython3",
   "version": "3.8.12"
  }
 },
 "nbformat": 4,
 "nbformat_minor": 5
}
